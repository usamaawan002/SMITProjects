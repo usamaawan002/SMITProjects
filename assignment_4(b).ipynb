{
 "cells": [
  {
   "cell_type": "markdown",
   "id": "545a892a-8e71-4a7a-a942-5d4e60f862b1",
   "metadata": {},
   "source": [
    "***1. Write a program that accepts a list from user and print the alternate element of list.***"
   ]
  },
  {
   "cell_type": "code",
   "execution_count": 7,
   "id": "5be1bc52-3635-42e5-b797-c1452ba36d57",
   "metadata": {},
   "outputs": [
    {
     "name": "stdin",
     "output_type": "stream",
     "text": [
      "Enter a list of elements separated by spaces:  2 5 6 7 8 9 10\n"
     ]
    },
    {
     "name": "stdout",
     "output_type": "stream",
     "text": [
      "Alternate elements of the list are:\n",
      "['2', '6', '8', '10']\n"
     ]
    }
   ],
   "source": [
    "\n",
    "user_input = input(\"Enter a list of elements separated by spaces: \")\n",
    "\n",
    "user_list = user_input.split()\n",
    "\n",
    "\n",
    "print(\"Alternate elements of the list are:\")\n",
    "print(user_list[::2])"
   ]
  },
  {
   "cell_type": "markdown",
   "id": "6f2e3ebb-d863-40d3-a537-9c463bda3c54",
   "metadata": {},
   "source": [
    "***2. Write a program that accepts a list from user. Your program should reverse the content of list and\n",
    "display it. Do not use reverse() method.***"
   ]
  },
  {
   "cell_type": "code",
   "execution_count": 8,
   "id": "ed47f730-784d-4cff-8ca8-111b85a51db3",
   "metadata": {},
   "outputs": [
    {
     "name": "stdin",
     "output_type": "stream",
     "text": [
      "Enter a list of element separated by spaces: 1 2 3 4 5 6 7 8 9\n"
     ]
    },
    {
     "name": "stdout",
     "output_type": "stream",
     "text": [
      "['9', '8', '7', '6', '5', '4', '3', '2', '1']\n"
     ]
    }
   ],
   "source": [
    "user_input = input(\"Enter a list of element separated by spaces:\")\n",
    "\n",
    "user_list = user_input.split()\n",
    "reversed_list = user_list[::-1]\n",
    "\n",
    "print(reversed_list)"
   ]
  },
  {
   "cell_type": "markdown",
   "id": "0e931781-17fc-46a0-a658-bcd16062a22e",
   "metadata": {},
   "source": [
    "***3. Find and display the largest number of a list without using built-in function max(). Your program\n",
    "should ask the user to input values in list from keyboard.***"
   ]
  },
  {
   "cell_type": "code",
   "execution_count": 11,
   "id": "df4ace76-f887-44b5-9cd4-6f01b6bfb873",
   "metadata": {},
   "outputs": [
    {
     "name": "stdin",
     "output_type": "stream",
     "text": [
      "Enter a list of number separated by spaces: 25 65 89 67 90 \n"
     ]
    },
    {
     "name": "stdout",
     "output_type": "stream",
     "text": [
      "your input is wrong\n",
      "your input is wrong\n",
      "the largest number is: 90\n"
     ]
    }
   ],
   "source": [
    "user_input = input(\"Enter a list of number separated by spaces:\")\n",
    "user_list = [int(x) for x in user_input.split()]\n",
    "max_num = user_list[0]\n",
    "for num in user_list:\n",
    "    if num > max_num:\n",
    "        max_num = num\n",
    "    else:\n",
    "        print(\"your input is wrong\")\n",
    "\n",
    "print(\"the largest number is:\",max_num)"
   ]
  },
  {
   "cell_type": "markdown",
   "id": "534a0e30-852f-46ee-9819-054b355c5886",
   "metadata": {},
   "source": [
    "***4. Write a program that rotates the element of a list so that the element at the first index moves to the\n",
    "second index, the element in the second index moves to the third index, etc., and the element in the last\n",
    "index moves to the first index.***"
   ]
  },
  {
   "cell_type": "code",
   "execution_count": 13,
   "id": "5b34cff6-81be-4a20-bc24-86fce4003af0",
   "metadata": {},
   "outputs": [
    {
     "name": "stdin",
     "output_type": "stream",
     "text": [
      "Enter a list of elements separated by spaces:  u s a m a\n"
     ]
    },
    {
     "name": "stdout",
     "output_type": "stream",
     "text": [
      "Rotated list is: ['s', 'a', 'm', 'a', 'u']\n"
     ]
    }
   ],
   "source": [
    "user_input = input(\"Enter a list of elements separated by spaces: \")\n",
    "\n",
    "\n",
    "user_list = user_input.split()\n",
    "\n",
    "\n",
    "rotated_list = user_list[1:] + [user_list[0]]\n",
    "\n",
    "print(\"Rotated list is:\", rotated_list)"
   ]
  },
  {
   "cell_type": "markdown",
   "id": "e6c393ac-86df-4e2b-9d6e-cfe0192b5945",
   "metadata": {},
   "source": [
    "***5. Write a program that input a string and ask user to delete a given word from a string.***"
   ]
  },
  {
   "cell_type": "code",
   "execution_count": 1,
   "id": "b907b1e6-2614-4438-82b4-de80cfb75dae",
   "metadata": {},
   "outputs": [
    {
     "name": "stdin",
     "output_type": "stream",
     "text": [
      "Enter a string:  i love pakistan\n",
      "Enter the word you want to delete:  pakistan\n"
     ]
    },
    {
     "name": "stdout",
     "output_type": "stream",
     "text": [
      "modified string is: i love \n"
     ]
    }
   ],
   "source": [
    "user_string = input(\"Enter a string: \")\n",
    "\n",
    "# Input the word to be deleted\n",
    "word_to_delete = input(\"Enter the word you want to delete: \")\n",
    "\n",
    "modified_string = user_string.replace(word_to_delete,\"\")\n",
    "print(\"modified string is:\",modified_string)"
   ]
  },
  {
   "cell_type": "markdown",
   "id": "88ad41fa-cad5-4d49-b57b-bbb80e37f904",
   "metadata": {},
   "source": [
    "***6. Write a program that reads a string from the user containing a date in the form mm/dd/yyyy. It\n",
    "should print the date in the form March 12, 2021.***"
   ]
  },
  {
   "cell_type": "code",
   "execution_count": 2,
   "id": "c30326f5-457a-4865-82d3-a35098726bf4",
   "metadata": {},
   "outputs": [
    {
     "name": "stdin",
     "output_type": "stream",
     "text": [
      "Enter a date in the format mm/dd/yyyy:  12/11/2024\n"
     ]
    },
    {
     "name": "stdout",
     "output_type": "stream",
     "text": [
      "The formatted date is: December 11, 2024\n"
     ]
    }
   ],
   "source": [
    "import datetime\n",
    "\n",
    "date_input = input(\"Enter a date in the format mm/dd/yyyy: \")\n",
    "\n",
    "date_object = datetime.datetime.strptime(date_input, \"%m/%d/%Y\")\n",
    "\n",
    "formatted_date = date_object.strftime(\"%B %d, %Y\")\n",
    "\n",
    "\n",
    "print(f\"The formatted date is: {formatted_date}\")"
   ]
  },
  {
   "cell_type": "markdown",
   "id": "b78a6cdd-be7c-40c6-8be4-58774f3f64e4",
   "metadata": {},
   "source": [
    "***7. Write a program with a function that accepts a string from keyboard and create a new string after\n",
    "converting character of each word capitalized. For instance, if the sentence is \"stop and smell the roses.\"\n",
    "the output should be \"Stop And Smell The Roses\"***"
   ]
  },
  {
   "cell_type": "code",
   "execution_count": null,
   "id": "53d44e65-ecfb-4f78-84c4-07b7142b0094",
   "metadata": {},
   "outputs": [],
   "source": [
    "input_sentence = input(\"Enter a sentence: \")\n",
    "\n",
    "words = input_sentence.split()\n",
    "\n",
    "capitalized_words = [word.capitalize() for word in words]\n",
    "\n",
    "output_sentence = ' '.join(capitalized_words)\n",
    "\n",
    "print(\"Capitalized sentence:\", output_sentence)"
   ]
  },
  {
   "cell_type": "markdown",
   "id": "c61dcd05-32d6-4b2c-8660-ab63c42e81c5",
   "metadata": {},
   "source": [
    "***8. Find the sum of each row of matrix of size m x n. For example for the following matrix output will be\n",
    "like this :\n",
    "\n",
    "Sum of row 1 = 32\n",
    "Sum of row 2 = 31\n",
    "Sum of row 3 = 63***"
   ]
  },
  {
   "cell_type": "code",
   "execution_count": null,
   "id": "ec7a50e6-7d8b-49df-8e52-e1f7660691d3",
   "metadata": {},
   "outputs": [],
   "source": [
    "matrix = []\n",
    "\n",
    "for i in range(m):\n",
    "    row = list(map(int, input(f\"Enter the elements of row {i+1} separated by spaces: \").split()))\n",
    "    matrix.append(row)\n",
    "\n",
    "\n",
    "for i in range(m):\n",
    "    row_sum = sum(matrix[i])\n",
    "    print(f\"Sum of row {i+1} = {row_sum}\")"
   ]
  },
  {
   "cell_type": "markdown",
   "id": "7d6d4688-9278-4be7-81db-a197967b1c5e",
   "metadata": {},
   "source": [
    "***9. Write a program to add two matrices of size n x m.***"
   ]
  },
  {
   "cell_type": "code",
   "execution_count": null,
   "id": "03c2199c-d982-4983-a640-210be4ebcef5",
   "metadata": {},
   "outputs": [],
   "source": [
    "# Read the number of rows (n) and columns (m) for the matrices\n",
    "n = int(input(\"Enter the number of rows: \"))\n",
    "m = int(input(\"Enter the number of columns: \"))\n",
    "\n",
    "# Initialize two empty matrices\n",
    "matrix1 = []\n",
    "matrix2 = []\n",
    "\n",
    "print(\"Enter the elements of the first matrix:\")\n",
    "for i in range(n):\n",
    "    row = list(map(int, input(f\"Enter the elements of row {i+1} separated by spaces: \").split()))\n",
    "    matrix1.append(row)\n",
    "\n",
    "\n",
    "print(\"Enter the elements of the second matrix:\")\n",
    "for i in range(n):\n",
    "    row = list(map(int, input(f\"Enter the elements of row {i+1} separated by spaces: \").split()))\n",
    "    matrix2.append(row)\n",
    "\n",
    "\n",
    "result = []\n",
    "\n",
    "for i in range(n):\n",
    "    row_sum = []\n",
    "    for j in range(m):\n",
    "        row_sum.append(matrix1[i][j] + matrix2[i][j])\n",
    "    result.append(row_sum)\n",
    "\n",
    "\n",
    "print(\"The sum of the two matrices is:\")\n",
    "for row in result:\n",
    "    print(\" \".join(map(str, row)))"
   ]
  },
  {
   "cell_type": "markdown",
   "id": "6f96e299-e78f-416c-91d6-353f64ee8925",
   "metadata": {},
   "source": [
    "***10. Write a program to multiply two matrices***"
   ]
  },
  {
   "cell_type": "code",
   "execution_count": null,
   "id": "9c23f068-a6e5-4c43-9d6c-26ba9f8e5811",
   "metadata": {},
   "outputs": [],
   "source": [
    "r = int(input(\"Enter the number of columns for the second matrix: \"))\n",
    "\n",
    "matrix1 = []\n",
    "matrix2 = []\n",
    "\n",
    "print(\"Enter the elements of the first matrix:\")\n",
    "for i in range(p):\n",
    "    row = list(map(int, input(f\"Enter the elements of row {i+1} separated by spaces: \").split()))\n",
    "    matrix1.append(row)\n",
    "\n",
    "print(\"Enter the elements of the second matrix:\")\n",
    "for i in range(q):\n",
    "    row = list(map(int, input(f\"Enter the elements of row {i+1} separated by spaces: \").split()))\n",
    "    matrix2.append(row)\n",
    "\n",
    "\n",
    "result = [[0] * r for _ in range(p)]\n",
    "\n",
    "for i in range(p):\n",
    "    for j in range(r):\n",
    "        for k in range(q):\n",
    "            result[i][j] += matrix1[i][k] * matrix2[k][j]\n",
    "\n",
    "print(\"The product of the two matrices is:\")\n",
    "for row in result:\n",
    "    print(\" \".join(map(str, row)))\n"
   ]
  }
 ],
 "metadata": {
  "kernelspec": {
   "display_name": "Python 3 (ipykernel)",
   "language": "python",
   "name": "python3"
  },
  "language_info": {
   "codemirror_mode": {
    "name": "ipython",
    "version": 3
   },
   "file_extension": ".py",
   "mimetype": "text/x-python",
   "name": "python",
   "nbconvert_exporter": "python",
   "pygments_lexer": "ipython3",
   "version": "3.12.7"
  }
 },
 "nbformat": 4,
 "nbformat_minor": 5
}
