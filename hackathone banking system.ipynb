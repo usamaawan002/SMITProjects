{
 "cells": [
  {
   "cell_type": "code",
   "execution_count": 7,
   "id": "df4aa442-86ed-416f-94ec-6db1769d753b",
   "metadata": {},
   "outputs": [],
   "source": [
    "class BankAccount:\n",
    "    def __init__(self, account_number, account_holder):\n",
    "        self.account_number = account_number  # Unique account number.\n",
    "        self.account_holder = account_holder  # Name of the account holder.\n",
    "        self.balance = 0  # Initial balance set to 0 when the account is created.\n",
    "        self.transactions = []  # List to store transaction history.\n",
    "\n",
    "    def deposit(self, amount):\n",
    "        self.balance += amount  # Add the deposit amount to the balance.\n",
    "        self.add_transaction(f\"Deposited {amount}\")  # Record the deposit in transactions.\n",
    "\n",
    "    def withdraw(self, amount):\n",
    "        if self.balance >= amount:  # Check if sufficient funds are available.\n",
    "            self.balance -= amount  # Deduct the withdrawal amount from the balance.\n",
    "            self.add_transaction(f\"Withdrew {amount}\")  # Record the withdrawal in transactions.\n",
    "        else:\n",
    "            print(\"Insufficient funds to withdraw.\")  # If not enough balance, show a message.\n",
    "\n",
    "    def check_balance(self):\n",
    "        return self.balance  # Return the current balance.\n",
    "\n",
    "    def add_transaction(self, description):\n",
    "        self.transactions.append(description)  # Add the transaction description to the list.\n",
    "\n",
    "    def print_statement(self):\n",
    "        print(f\"Account Statement for {self.account_holder} (Account Number: {self.account_number}):\")\n",
    "        for transaction in self.transactions:  # Loop through all transactions.\n",
    "            print(transaction)  # Print each transaction.\n",
    "        print(f\"Current Balance: {self.balance}\")  # Print the current balance at the end of the statement.\n"
   ]
  },
  {
   "cell_type": "code",
   "execution_count": 9,
   "id": "0af07597-1f1e-449c-9c5d-dcf8e2f47954",
   "metadata": {},
   "outputs": [],
   "source": [
    "class Bank:\n",
    "    def __init__(self):\n",
    "        self.accounts = {}  # Dictionary to store all bank accounts.\n",
    "\n",
    "    def open_account(self, account_holder):\n",
    "        account_number = len(self.accounts) + 1  # Assign a unique account number.\n",
    "        new_account = BankAccount(account_number, account_holder)  # Create a new account.\n",
    "        self.accounts[account_number] = new_account  # Store the account in the dictionary.\n",
    "        print(f\"Account {account_number} created for {account_holder}.\")  # Confirm account creation.\n",
    "\n",
    "    def get_account(self, account_number):\n",
    "        return self.accounts.get(account_number)  # Retrieve the account object using the account number.\n",
    "\n",
    "    def transfer(self, sender_account_number, receiver_account_number, amount):\n",
    "        sender_account = self.get_account(sender_account_number)  # Get sender's account.\n",
    "        receiver_account = self.get_account(receiver_account_number)  # Get receiver's account.\n",
    "\n",
    "        if sender_account and receiver_account:  # Ensure both accounts are valid.\n",
    "            if sender_account.check_balance() >= amount:  # Check if sender has enough balance.\n",
    "                sender_account.withdraw(amount)  # Deduct the amount from sender's account.\n",
    "                receiver_account.deposit(amount)  # Add the amount to receiver's account.\n",
    "                sender_account.add_transaction(f\"Transferred {amount} to Account {receiver_account_number}\")  # Log the transfer.\n",
    "                receiver_account.add_transaction(f\"Received {amount} from Account {sender_account_number}\")  # Log the receipt.\n",
    "            else:\n",
    "                print(\"Insufficient funds to transfer.\")  # Print error if funds are insufficient.\n",
    "        else:\n",
    "            print(\"One or both account numbers are invalid.\")  # Print error if any account number is invalid.\n",
    "\n",
    "    def admin_check_total_deposit(self):\n",
    "        total_deposit = sum(account.check_balance() for account in self.accounts.values())  # Calculate the total deposit across all accounts.\n",
    "        return total_deposit  # Return the total balance.\n",
    "\n",
    "    def admin_check_total_accounts(self):\n",
    "        return len(self.accounts)  # Return the total number of accounts in the bank.\n"
   ]
  },
  {
   "cell_type": "code",
   "execution_count": null,
   "id": "c32edee2-aaee-4fe7-86d0-ea0329df7193",
   "metadata": {},
   "outputs": [
    {
     "name": "stdout",
     "output_type": "stream",
     "text": [
      "\n",
      "--- Welcome to the Bank ---\n",
      "1. Open Account\n",
      "2. Deposit Money\n",
      "3. Withdraw Money\n",
      "4. Transfer Money\n",
      "5. Check Balance\n",
      "6. Print Account Statement\n",
      "7. Admin Check Total Deposit\n",
      "8. Admin Check Total Accounts\n",
      "9. Exit\n"
     ]
    },
    {
     "name": "stdin",
     "output_type": "stream",
     "text": [
      "Enter your choice:  1\n",
      "Enter the account holder's name:  usama\n"
     ]
    },
    {
     "name": "stdout",
     "output_type": "stream",
     "text": [
      "Account 1 created for usama.\n",
      "\n",
      "--- Welcome to the Bank ---\n",
      "1. Open Account\n",
      "2. Deposit Money\n",
      "3. Withdraw Money\n",
      "4. Transfer Money\n",
      "5. Check Balance\n",
      "6. Print Account Statement\n",
      "7. Admin Check Total Deposit\n",
      "8. Admin Check Total Accounts\n",
      "9. Exit\n"
     ]
    },
    {
     "name": "stdin",
     "output_type": "stream",
     "text": [
      "Enter your choice:  2\n",
      "Enter account number:  1\n",
      "Enter deposit amount:  1200\n"
     ]
    },
    {
     "name": "stdout",
     "output_type": "stream",
     "text": [
      "\n",
      "--- Welcome to the Bank ---\n",
      "1. Open Account\n",
      "2. Deposit Money\n",
      "3. Withdraw Money\n",
      "4. Transfer Money\n",
      "5. Check Balance\n",
      "6. Print Account Statement\n",
      "7. Admin Check Total Deposit\n",
      "8. Admin Check Total Accounts\n",
      "9. Exit\n"
     ]
    },
    {
     "name": "stdin",
     "output_type": "stream",
     "text": [
      "Enter your choice:  5\n",
      "Enter account number:  1\n"
     ]
    },
    {
     "name": "stdout",
     "output_type": "stream",
     "text": [
      "Account Balance: 1200.0\n",
      "\n",
      "--- Welcome to the Bank ---\n",
      "1. Open Account\n",
      "2. Deposit Money\n",
      "3. Withdraw Money\n",
      "4. Transfer Money\n",
      "5. Check Balance\n",
      "6. Print Account Statement\n",
      "7. Admin Check Total Deposit\n",
      "8. Admin Check Total Accounts\n",
      "9. Exit\n"
     ]
    },
    {
     "name": "stdin",
     "output_type": "stream",
     "text": [
      "Enter your choice:  3\n",
      "Enter account number:  1\n",
      "Enter withdrawal amount:  1000\n"
     ]
    },
    {
     "name": "stdout",
     "output_type": "stream",
     "text": [
      "\n",
      "--- Welcome to the Bank ---\n",
      "1. Open Account\n",
      "2. Deposit Money\n",
      "3. Withdraw Money\n",
      "4. Transfer Money\n",
      "5. Check Balance\n",
      "6. Print Account Statement\n",
      "7. Admin Check Total Deposit\n",
      "8. Admin Check Total Accounts\n",
      "9. Exit\n"
     ]
    },
    {
     "name": "stdin",
     "output_type": "stream",
     "text": [
      "Enter your choice:  4\n",
      "Enter sender account number:  1\n",
      "Enter receiver account number:  2\n",
      "Enter transfer amount:  300\n"
     ]
    },
    {
     "name": "stdout",
     "output_type": "stream",
     "text": [
      "One or both account numbers are invalid.\n",
      "\n",
      "--- Welcome to the Bank ---\n",
      "1. Open Account\n",
      "2. Deposit Money\n",
      "3. Withdraw Money\n",
      "4. Transfer Money\n",
      "5. Check Balance\n",
      "6. Print Account Statement\n",
      "7. Admin Check Total Deposit\n",
      "8. Admin Check Total Accounts\n",
      "9. Exit\n"
     ]
    },
    {
     "name": "stdin",
     "output_type": "stream",
     "text": [
      "Enter your choice:  5\n",
      "Enter account number:  1\n"
     ]
    },
    {
     "name": "stdout",
     "output_type": "stream",
     "text": [
      "Account Balance: 200.0\n",
      "\n",
      "--- Welcome to the Bank ---\n",
      "1. Open Account\n",
      "2. Deposit Money\n",
      "3. Withdraw Money\n",
      "4. Transfer Money\n",
      "5. Check Balance\n",
      "6. Print Account Statement\n",
      "7. Admin Check Total Deposit\n",
      "8. Admin Check Total Accounts\n",
      "9. Exit\n"
     ]
    }
   ],
   "source": [
    "def main():\n",
    "    bank = Bank()  # Create a new Bank instance.\n",
    "\n",
    "    while True:  # Infinite loop to keep the menu running until the user chooses to exit.\n",
    "        print(\"\\n--- Welcome to the Bank ---\")\n",
    "        print(\"1. Open Account\")\n",
    "        print(\"2. Deposit Money\")\n",
    "        print(\"3. Withdraw Money\")\n",
    "        print(\"4. Transfer Money\")\n",
    "        print(\"5. Check Balance\")\n",
    "        print(\"6. Print Account Statement\")\n",
    "        print(\"7. Admin Check Total Deposit\")\n",
    "        print(\"8. Admin Check Total Accounts\")\n",
    "        print(\"9. Exit\")\n",
    "\n",
    "        choice = input(\"Enter your choice: \")\n",
    "\n",
    "        if choice == \"1\":\n",
    "            account_holder = input(\"Enter the account holder's name: \")\n",
    "            bank.open_account(account_holder)  # Open a new account.\n",
    "\n",
    "        elif choice == \"2\":\n",
    "            account_number = int(input(\"Enter account number: \"))\n",
    "            amount = float(input(\"Enter deposit amount: \"))\n",
    "            account = bank.get_account(account_number)\n",
    "            if account:\n",
    "                account.deposit(amount)  # Deposit money into the specified account.\n",
    "            else:\n",
    "                print(\"Invalid account number.\")\n",
    "\n",
    "        elif choice == \"3\":\n",
    "            account_number = int(input(\"Enter account number: \"))\n",
    "            amount = float(input(\"Enter withdrawal amount: \"))\n",
    "            account = bank.get_account(account_number)\n",
    "            if account:\n",
    "                account.withdraw(amount)  # Withdraw money from the specified account.\n",
    "            else:\n",
    "                print(\"Invalid account number.\")\n",
    "\n",
    "        elif choice == \"4\":\n",
    "            sender_account_number = int(input(\"Enter sender account number: \"))\n",
    "            receiver_account_number = int(input(\"Enter receiver account number: \"))\n",
    "            amount = float(input(\"Enter transfer amount: \"))\n",
    "            bank.transfer(sender_account_number, receiver_account_number, amount)  # Transfer money.\n",
    "\n",
    "        elif choice == \"5\":\n",
    "            account_number = int(input(\"Enter account number: \"))\n",
    "            account = bank.get_account(account_number)\n",
    "            if account:\n",
    "                print(f\"Account Balance: {account.check_balance()}\")  # Check account balance.\n",
    "            else:\n",
    "                print(\"Invalid account number.\")\n",
    "\n",
    "        elif choice == \"6\":\n",
    "            account_number = int(input(\"Enter account number: \"))\n",
    "            account = bank.get_account(account_number)\n",
    "            if account:\n",
    "                account.print_statement()  # Print account statement.\n",
    "            else:\n",
    "                print(\"Invalid account number.\")\n",
    "\n",
    "        elif choice == \"7\":\n",
    "            print(f\"Total deposit in the bank: {bank.admin_check_total_deposit()}\")  # Admin check total deposit.\n",
    "\n",
    "        elif choice == \"8\":\n",
    "            print(f\"Total number of accounts: {bank.admin_check_total_accounts()}\")  # Admin check total accounts.\n",
    "\n",
    "        elif choice == \"9\":\n",
    "            print(\"Goodbye!\")\n",
    "            break  # Exit the program.\n",
    "\n",
    "        else:\n",
    "            print(\"Invalid choice. Please try again.\")  # Handle invalid menu options.\n",
    "\n",
    "if __name__ == \"__main__\":\n",
    "    main()\n"
   ]
  },
  {
   "cell_type": "code",
   "execution_count": null,
   "id": "5bca20db-16e4-4167-ac00-9462113797be",
   "metadata": {},
   "outputs": [],
   "source": []
  },
  {
   "cell_type": "code",
   "execution_count": null,
   "id": "0b05b7ab-1bd5-470f-ae01-bacaf5d7912c",
   "metadata": {},
   "outputs": [],
   "source": []
  }
 ],
 "metadata": {
  "kernelspec": {
   "display_name": "Python 3 (ipykernel)",
   "language": "python",
   "name": "python3"
  },
  "language_info": {
   "codemirror_mode": {
    "name": "ipython",
    "version": 3
   },
   "file_extension": ".py",
   "mimetype": "text/x-python",
   "name": "python",
   "nbconvert_exporter": "python",
   "pygments_lexer": "ipython3",
   "version": "3.12.7"
  }
 },
 "nbformat": 4,
 "nbformat_minor": 5
}
