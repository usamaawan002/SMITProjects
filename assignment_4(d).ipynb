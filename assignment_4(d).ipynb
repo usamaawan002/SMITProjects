{
 "cells": [
  {
   "cell_type": "markdown",
   "id": "b901946a-6048-4b12-ad71-269434b74532",
   "metadata": {},
   "source": [
    "***1. Write a program that accepts a string from user. Your program should count and display number of\n",
    "vowels in that string.***"
   ]
  },
  {
   "cell_type": "code",
   "execution_count": null,
   "id": "a15f2947-55e2-4050-9211-4824067cde2f",
   "metadata": {},
   "outputs": [],
   "source": [
    "user_input = input(\"Enter a string: \")\n",
    "\n",
    "vowel_count = 0\n",
    "vowels = \"aeiouAEIOU\"\n",
    "\n",
    "\n",
    "for char in user_input:\n",
    "    if char in vowels:\n",
    "        vowel_count += 1 \n",
    "\n",
    "print(f\"The number of vowels in the string is: {vowel_count}\")"
   ]
  },
  {
   "cell_type": "markdown",
   "id": "6001c897-9af9-4a13-9d8c-b5eb7e6ca814",
   "metadata": {},
   "source": [
    "***2. Write a program that reads a string from keyboard and display:\n",
    "* The number of uppercase letters in the string\n",
    "* The number of lowercase letters in the string\n",
    "* The number of digits in the string\n",
    "* The number of whitespace characters in the string***\n",
    "  "
   ]
  },
  {
   "cell_type": "code",
   "execution_count": 3,
   "id": "22205275-e6e2-4054-8f8e-704e97ba09be",
   "metadata": {},
   "outputs": [
    {
     "name": "stdin",
     "output_type": "stream",
     "text": [
      "Enter a string:  usama\n"
     ]
    },
    {
     "name": "stdout",
     "output_type": "stream",
     "text": [
      "Number of uppercase letters: 0\n",
      "Number of lowercase letters: 5\n",
      "Number of digits: 0\n",
      "Number of whitespace characters: 0\n"
     ]
    }
   ],
   "source": [
    "user_input = input(\"Enter a string: \")\n",
    "\n",
    "uppercase_count = 0\n",
    "lowercase_count = 0\n",
    "digit_count = 0\n",
    "whitespace_count = 0\n",
    "\n",
    "\n",
    "for char in user_input:\n",
    "    if char.isupper():  \n",
    "        uppercase_count += 1\n",
    "    elif char.islower():  \n",
    "        lowercase_count += 1\n",
    "    elif char.isdigit():  \n",
    "        digit_count += 1\n",
    "    elif char.isspace():  \n",
    "        whitespace_count += 1\n",
    "\n",
    "print(f\"Number of uppercase letters: {uppercase_count}\")\n",
    "print(f\"Number of lowercase letters: {lowercase_count}\")\n",
    "print(f\"Number of digits: {digit_count}\")\n",
    "print(f\"Number of whitespace characters: {whitespace_count}\")"
   ]
  },
  {
   "cell_type": "markdown",
   "id": "883dbf97-2ff8-4f26-b051-dd4800cf06d9",
   "metadata": {},
   "source": [
    "***3. Write a Python program that accepts a string from user. Your program should create and display a\n",
    "new string where the first and last characters have been exchanged.***"
   ]
  },
  {
   "cell_type": "code",
   "execution_count": 4,
   "id": "4c48ebf7-b2b6-47fe-a465-c67f4a759ecc",
   "metadata": {},
   "outputs": [
    {
     "name": "stdin",
     "output_type": "stream",
     "text": [
      "Enter a string:  ahmed\n"
     ]
    },
    {
     "name": "stdout",
     "output_type": "stream",
     "text": [
      "New string with first and last characters exchanged: dhmea\n"
     ]
    }
   ],
   "source": [
    "user_input = input(\"Enter a string: \")\n",
    "\n",
    "\n",
    "if len(user_input) > 1:\n",
    "    \n",
    "    new_string = user_input[-1] + user_input[1:-1] + user_input[0]\n",
    "else:\n",
    "    \n",
    "    new_string = user_input\n",
    "\n",
    "\n",
    "print(\"New string with first and last characters exchanged:\", new_string)"
   ]
  },
  {
   "cell_type": "markdown",
   "id": "9bd41d48-bdb4-4526-a0e3-cb01af6389b9",
   "metadata": {},
   "source": [
    "***4. Write a Python program that accepts a string from user. Your program should create a new string in\n",
    "reverse of first string and display it.\n",
    "For example if the user enters the string 'EXAM' then new string would be 'MAXE'***"
   ]
  },
  {
   "cell_type": "code",
   "execution_count": 5,
   "id": "e0b0f216-d274-46a0-a87b-ee6ff7e4613e",
   "metadata": {},
   "outputs": [
    {
     "name": "stdin",
     "output_type": "stream",
     "text": [
      "Enter a string:  hammad\n"
     ]
    },
    {
     "name": "stdout",
     "output_type": "stream",
     "text": [
      "The reversed string is: dammah\n"
     ]
    }
   ],
   "source": [
    "user_input = input(\"Enter a string: \")\n",
    "\n",
    "reversed_string = user_input[::-1]\n",
    "\n",
    "print(\"The reversed string is:\", reversed_string)"
   ]
  },
  {
   "cell_type": "markdown",
   "id": "d5ab19aa-9f6b-44df-b8aa-cca8424959ba",
   "metadata": {},
   "source": [
    "***5. Write a Python program that accepts a string from user. Your program should create a new string by\n",
    "shifting one position to left.\n",
    "For example if the user enters the string 'examination 2021' then new string would be 'xamination\n",
    "2021e'***"
   ]
  },
  {
   "cell_type": "code",
   "execution_count": 6,
   "id": "883ae5c9-3641-4257-9f03-4d49f75e39b1",
   "metadata": {},
   "outputs": [
    {
     "name": "stdin",
     "output_type": "stream",
     "text": [
      "Enter a string:  usama\n"
     ]
    },
    {
     "name": "stdout",
     "output_type": "stream",
     "text": [
      "The new string after shifting one position to the left is: samau\n"
     ]
    }
   ],
   "source": [
    "user_input = input(\"Enter a string: \")\n",
    "\n",
    "\n",
    "shifted_string = user_input[1:] + user_input[0]\n",
    "\n",
    "\n",
    "print(\"The new string after shifting one position to the left is:\", shifted_string)"
   ]
  },
  {
   "cell_type": "markdown",
   "id": "b8c722e5-bbb1-4bdd-b724-37a1b92fc149",
   "metadata": {},
   "source": [
    "***6. Write a program that asks the user to input his name and print its initials. Assuming that the user\n",
    "always types first name, middle name and last name and does not include any unnecessary spaces.\n",
    "For example, if the user enters Ajay Kumar Garg the program should display A. K. G.\n",
    "Note:Don't use split() method***"
   ]
  },
  {
   "cell_type": "code",
   "execution_count": null,
   "id": "d4db9ed8-0b48-4e88-b327-9c2ee11a3420",
   "metadata": {},
   "outputs": [],
   "source": [
    "full_name = input(\"Enter your full name: \")\n",
    "\n",
    "\n",
    "initials = \"\"\n",
    "\n",
    "for i in range(len(full_name)):\n",
    "    if i == 0 or full_name[i-1] == ' ':\n",
    "        initials += full_name[i].upper() + '. '\n",
    "\n",
    "initials = initials.strip()\n",
    "\n",
    "print(\"The initials are:\", initials)"
   ]
  },
  {
   "cell_type": "markdown",
   "id": "f259edb9-32a3-41e8-bd8d-f05c6824a65e",
   "metadata": {},
   "source": [
    "***7. A palindrome is a string that reads the same backward as forward. For example, the words dad,\n",
    "madam and radar are all palindromes. Write a programs that determines whether the string is a\n",
    "palindrome.\n",
    "Note: do not use reverse() method***"
   ]
  },
  {
   "cell_type": "code",
   "execution_count": 8,
   "id": "646948f6-99f0-415e-92cb-bc03891b0246",
   "metadata": {},
   "outputs": [
    {
     "name": "stdin",
     "output_type": "stream",
     "text": [
      "Enter a string:  hassan\n"
     ]
    },
    {
     "name": "stdout",
     "output_type": "stream",
     "text": [
      "The string 'hassan' is not a palindrome.\n"
     ]
    }
   ],
   "source": [
    "user_input = input(\"Enter a string: \")\n",
    "\n",
    "is_palindrome = True\n",
    "\n",
    "for i in range(len(user_input) // 2):\n",
    "    if user_input[i] != user_input[len(user_input) - 1 - i]:\n",
    "        is_palindrome = False\n",
    "        break\n",
    "\n",
    "if is_palindrome:\n",
    "    print(f\"The string '{user_input}' is a palindrome.\")\n",
    "else:\n",
    "    print(f\"The string '{user_input}' is not a palindrome.\")"
   ]
  },
  {
   "cell_type": "markdown",
   "id": "1812f619-634d-4f5e-a459-87b348c87b95",
   "metadata": {},
   "source": [
    "***8. Write a program that display following output:\n",
    "SHIFT\n",
    "HIFTS\n",
    "IFTSH\n",
    "FTSHI\n",
    "TSHIF\n",
    "SHIFT***"
   ]
  },
  {
   "cell_type": "code",
   "execution_count": 9,
   "id": "d12a9f6d-3c6a-418d-ad9d-7dbc812bdc23",
   "metadata": {},
   "outputs": [
    {
     "name": "stdout",
     "output_type": "stream",
     "text": [
      "SHIFT\n",
      "HIFTS\n",
      "IFTSH\n",
      "FTSHI\n",
      "TSHIF\n"
     ]
    }
   ],
   "source": [
    "word = \"SHIFT\"\n",
    "\n",
    "for i in range(len(word)):\n",
    "    \n",
    "    print(word[i:] + word[:i])\n"
   ]
  },
  {
   "cell_type": "markdown",
   "id": "a29e1053-b98a-4538-b534-d1821ef9725c",
   "metadata": {},
   "source": [
    "Write a program in python that accepts a string to setup a passwords. Your entered password must\n",
    "meet the following requirements:\n",
    "\n",
    "The password must be at least eight characters long.\n",
    "It must contain at least one uppercase letter.\n",
    "It must contain at least one lowercase letter.\n",
    "It must contain at least one numeric digit.\n",
    "Your program should should perform this validation."
   ]
  },
  {
   "cell_type": "code",
   "execution_count": 10,
   "id": "bf9ce421-48b9-4949-ab0d-3bdb19db5a65",
   "metadata": {},
   "outputs": [
    {
     "name": "stdin",
     "output_type": "stream",
     "text": [
      "Enter your password:  432678\n"
     ]
    },
    {
     "name": "stdout",
     "output_type": "stream",
     "text": [
      "Your password is invalid. It must meet the following requirements:\n",
      "- At least 8 characters long\n",
      "- Contain at least one uppercase letter\n",
      "- Contain at least one lowercase letter\n",
      "- Contain at least one numeric digit\n"
     ]
    }
   ],
   "source": [
    "import re\n",
    "\n",
    "password = input(\"Enter your password: \")\n",
    "\n",
    "if len(password) >= 8 and \\\n",
    "   re.search(r'[A-Z]', password) and \\\n",
    "   re.search(r'[a-z]', password) and \\\n",
    "   re.search(r'[0-9]', password):\n",
    "    print(\"Your password is valid.\")\n",
    "else:\n",
    "    print(\"Your password is invalid. It must meet the following requirements:\")\n",
    "    print(\"- At least 8 characters long\")\n",
    "    print(\"- Contain at least one uppercase letter\")\n",
    "    print(\"- Contain at least one lowercase letter\")\n",
    "    print(\"- Contain at least one numeric digit\")"
   ]
  },
  {
   "cell_type": "code",
   "execution_count": null,
   "id": "63857e74-ab94-4773-bb27-8e358372a6a4",
   "metadata": {},
   "outputs": [],
   "source": []
  }
 ],
 "metadata": {
  "kernelspec": {
   "display_name": "Python 3 (ipykernel)",
   "language": "python",
   "name": "python3"
  },
  "language_info": {
   "codemirror_mode": {
    "name": "ipython",
    "version": 3
   },
   "file_extension": ".py",
   "mimetype": "text/x-python",
   "name": "python",
   "nbconvert_exporter": "python",
   "pygments_lexer": "ipython3",
   "version": "3.12.7"
  }
 },
 "nbformat": 4,
 "nbformat_minor": 5
}
