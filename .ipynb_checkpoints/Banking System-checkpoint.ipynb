{
 "cells": [
  {
   "cell_type": "code",
   "execution_count": 8,
   "id": "01643d91-0843-4005-92f8-85a2639783c3",
   "metadata": {},
   "outputs": [],
   "source": [
    "# Step 1: Create an account\n",
    "def create_account(name, initial_balance=0.0):\n",
    "    account = {\n",
    "        \"name\": name,\n",
    "        \"balance\": initial_balance,\n",
    "        \"transactions\": load_transactions()\n",
    "    }\n",
    "    print(f\"Account for {name} created with balance ${initial_balance:.2f}.\")\n",
    "    return account"
   ]
  },
  {
   "cell_type": "code",
   "execution_count": 9,
   "id": "d7db747f-531e-4a72-b1a2-1ec338f7c91b",
   "metadata": {},
   "outputs": [],
   "source": [
    "def deposit(account, amount):\n",
    "    if amount <= 0:\n",
    "        print(\"Deposit amount must be positive.\")\n",
    "        return account\n",
    "    account[\"balance\"] += amount\n",
    "    transaction = f\"Deposit: ${amount:.2f}, New Balance: ${account['balance']:.2f}\"\n",
    "    account[\"transactions\"].append(transaction)\n",
    "    write_transaction(transaction)\n",
    "    print(f\"Deposited ${amount:.2f}. New balance: ${account['balance']:.2f}.\")\n",
    "    return account"
   ]
  },
  {
   "cell_type": "code",
   "execution_count": 10,
   "id": "b37eab01-6356-4b65-8cb9-bc488cf0f994",
   "metadata": {},
   "outputs": [],
   "source": [
    "# Step 3: Withdraw money\n",
    "def withdraw(account, amount):\n",
    "    if amount <= 0:\n",
    "        print(\"Withdrawal amount must be positive.\")\n",
    "        return account\n",
    "    if amount > account[\"balance\"]:\n",
    "        print(\"Insufficient funds for withdrawal.\")\n",
    "        return account\n",
    "    account[\"balance\"] -= amount\n",
    "    transaction = f\"Withdrawal: ${amount:.2f}, New Balance: ${account['balance']:.2f}\"\n",
    "    account[\"transactions\"].append(transaction)\n",
    "    write_transaction(transaction)\n",
    "    print(f\"Withdrew ${amount:.2f}. New balance: ${account['balance']:.2f}.\")\n",
    "    return account"
   ]
  },
  {
   "cell_type": "code",
   "execution_count": 11,
   "id": "fb47360f-3827-406a-86a1-b381eb999991",
   "metadata": {},
   "outputs": [],
   "source": [
    "# Step 4: Check balance\n",
    "def check_balance(account):\n",
    "    print(f\"Current balance: ${account['balance']:.2f}\")\n",
    "    return account[\"balance\"]"
   ]
  },
  {
   "cell_type": "code",
   "execution_count": 12,
   "id": "a0685d37-2cf1-4a56-b287-d9e63ccf85ef",
   "metadata": {},
   "outputs": [],
   "source": [
    "# Step 5: Print statement\n",
    "def print_statement(account):\n",
    "    print(f\"\\nAccount Statement for {account['name']}:\")\n",
    "    if not account[\"transactions\"]:\n",
    "        print(\"No transactions available.\")\n",
    "    else:\n",
    "        for transaction in account[\"transactions\"]:\n",
    "            print(transaction)\n",
    "    print(f\"Final Balance: ${account['balance']:.2f}\\n\")"
   ]
  },
  {
   "cell_type": "code",
   "execution_count": 13,
   "id": "188e3222-1b26-474a-8b38-0d6d557f67b4",
   "metadata": {},
   "outputs": [
    {
     "name": "stdout",
     "output_type": "stream",
     "text": [
      "Account for John Doe created with balance $0.00.\n"
     ]
    }
   ],
   "source": [
    " account = create_account(\"John Doe\", 0.0)"
   ]
  },
  {
   "cell_type": "code",
   "execution_count": 14,
   "id": "f47aaa2c-2f68-4602-b90d-45e02277dfa3",
   "metadata": {},
   "outputs": [
    {
     "name": "stdout",
     "output_type": "stream",
     "text": [
      "Deposited $500.00. New balance: $500.00.\n"
     ]
    },
    {
     "data": {
      "text/plain": [
       "{'name': 'John Doe',\n",
       " 'balance': 500.0,\n",
       " 'transactions': ['Deposit: $500.00, New Balance: $500.00']}"
      ]
     },
     "execution_count": 14,
     "metadata": {},
     "output_type": "execute_result"
    }
   ],
   "source": [
    "deposit(account, 500)"
   ]
  },
  {
   "cell_type": "code",
   "execution_count": 15,
   "id": "e155bfd7-0693-4d41-9485-4d8ba795eaf4",
   "metadata": {},
   "outputs": [
    {
     "name": "stdout",
     "output_type": "stream",
     "text": [
      "Withdrew $200.00. New balance: $300.00.\n"
     ]
    },
    {
     "data": {
      "text/plain": [
       "{'name': 'John Doe',\n",
       " 'balance': 300.0,\n",
       " 'transactions': ['Deposit: $500.00, New Balance: $500.00',\n",
       "  'Withdrawal: $200.00, New Balance: $300.00']}"
      ]
     },
     "execution_count": 15,
     "metadata": {},
     "output_type": "execute_result"
    }
   ],
   "source": [
    "withdraw(account, 200)"
   ]
  },
  {
   "cell_type": "code",
   "execution_count": 16,
   "id": "ce6f97a7-77bc-4c19-a554-3ad95126bcfb",
   "metadata": {},
   "outputs": [
    {
     "name": "stdout",
     "output_type": "stream",
     "text": [
      "Current balance: $300.00\n"
     ]
    },
    {
     "data": {
      "text/plain": [
       "300.0"
      ]
     },
     "execution_count": 16,
     "metadata": {},
     "output_type": "execute_result"
    }
   ],
   "source": [
    "check_balance(account)"
   ]
  },
  {
   "cell_type": "code",
   "execution_count": 17,
   "id": "2f0348e8-80dd-4c6d-b6ba-35ea01d4e39e",
   "metadata": {},
   "outputs": [
    {
     "name": "stdout",
     "output_type": "stream",
     "text": [
      "\n",
      "Account Statement for John Doe:\n",
      "Deposit: $500.00, New Balance: $500.00\n",
      "Withdrawal: $200.00, New Balance: $300.00\n",
      "Final Balance: $300.00\n",
      "\n"
     ]
    }
   ],
   "source": [
    " print_statement(account)"
   ]
  },
  {
   "cell_type": "code",
   "execution_count": null,
   "id": "33e42b9a-0439-4146-8f77-2ce2c2b36bd4",
   "metadata": {},
   "outputs": [],
   "source": []
  }
 ],
 "metadata": {
  "kernelspec": {
   "display_name": "Python 3 (ipykernel)",
   "language": "python",
   "name": "python3"
  },
  "language_info": {
   "codemirror_mode": {
    "name": "ipython",
    "version": 3
   },
   "file_extension": ".py",
   "mimetype": "text/x-python",
   "name": "python",
   "nbconvert_exporter": "python",
   "pygments_lexer": "ipython3",
   "version": "3.12.7"
  }
 },
 "nbformat": 4,
 "nbformat_minor": 5
}
