{
 "cells": [
  {
   "cell_type": "markdown",
   "id": "f73ba155-567c-40f5-b71a-3aaa4b2a7090",
   "metadata": {},
   "source": [
    "**1. Write a program that prompts the user to input a number and display if the number\n",
    "is even or odd.**"
   ]
  },
  {
   "cell_type": "code",
   "execution_count": 1,
   "id": "557c1e88-f780-4a83-9a7d-48d64ec69a79",
   "metadata": {},
   "outputs": [
    {
     "name": "stdin",
     "output_type": "stream",
     "text": [
      "Enter a number:  4\n"
     ]
    },
    {
     "name": "stdout",
     "output_type": "stream",
     "text": [
      "The number is even.\n"
     ]
    }
   ],
   "source": [
    "number = int(input(\"Enter a number: \"))\n",
    "\n",
    "if number % 2 == 0:\n",
    "    print(\"The number is even.\")\n",
    "else:\n",
    "    print(\"The number is odd.\")"
   ]
  },
  {
   "cell_type": "markdown",
   "id": "3c62f578-87dc-4fc7-ba54-28c32fe4cf77",
   "metadata": {},
   "source": [
    "**2. Write a Python program that takes an age as input and determines whether a person\n",
    "is eligible to vote. If the age is 18 or above, print \"You are eligible to vote.\" Otherwise,\n",
    "print \"You are not eligible to vote yet.\".**"
   ]
  },
  {
   "cell_type": "code",
   "execution_count": 2,
   "id": "c8f60a0d-05e9-4933-9aac-192ec5ee26ae",
   "metadata": {},
   "outputs": [
    {
     "name": "stdin",
     "output_type": "stream",
     "text": [
      "Enter your age:  20\n"
     ]
    },
    {
     "name": "stdout",
     "output_type": "stream",
     "text": [
      "You are eligible to vote.\n"
     ]
    }
   ],
   "source": [
    "age = int(input(\"Enter your age: \"))\n",
    "\n",
    "if age >= 18:\n",
    "    print(\"You are eligible to vote.\")\n",
    "else:\n",
    "    print(\"You are not eligible to vote yet.\")"
   ]
  },
  {
   "cell_type": "markdown",
   "id": "9f82e701-44f1-4906-8261-cda61fdbf1d0",
   "metadata": {},
   "source": [
    "**3. Write a program that prompts the user to input two integers and outputs the largest.**"
   ]
  },
  {
   "cell_type": "code",
   "execution_count": 3,
   "id": "2ae97f30-5048-4fde-b615-0b2549d05a4a",
   "metadata": {},
   "outputs": [
    {
     "name": "stdin",
     "output_type": "stream",
     "text": [
      "Enter the first number:  20\n",
      "Enter the second number:  35\n"
     ]
    },
    {
     "name": "stdout",
     "output_type": "stream",
     "text": [
      "The largest number is 35.\n"
     ]
    }
   ],
   "source": [
    "num1 = int(input(\"Enter the first number: \"))\n",
    "num2 = int(input(\"Enter the second number: \"))\n",
    "\n",
    "if num1 > num2:\n",
    "    print(f\"The largest number is {num1}.\")\n",
    "elif num2 > num1:\n",
    "    print(f\"The largest number is {num2}.\")\n",
    "else:\n",
    "    print(\"Both numbers are equal.\")"
   ]
  },
  {
   "cell_type": "markdown",
   "id": "f4e791dc-a686-4ab5-ae9e-e435b372f7fe",
   "metadata": {},
   "source": [
    "**4. Write a program that prompts the user to enter a number and determines whether it\n",
    "is positive, negative, or zero. The program should print \"Positive\" if the number is\n",
    "greater than 0, \"Negative\" if the number is less than 0, and \"Zero\" if the number is 0.**"
   ]
  },
  {
   "cell_type": "code",
   "execution_count": 7,
   "id": "9d4018be-d4f1-4c0d-918a-755f59a52efc",
   "metadata": {},
   "outputs": [
    {
     "name": "stdin",
     "output_type": "stream",
     "text": [
      "Enter a number:  -3\n"
     ]
    },
    {
     "name": "stdout",
     "output_type": "stream",
     "text": [
      "Negative\n"
     ]
    }
   ],
   "source": [
    "number = float(input(\"Enter a number: \"))\n",
    "\n",
    "if number > 0:\n",
    "    print(\"Positive\")\n",
    "elif number < 0:\n",
    "    print(\"Negative\")\n",
    "else:\n",
    "    print(\"Zero\")"
   ]
  },
  {
   "cell_type": "markdown",
   "id": "020acc97-522e-4037-bfed-b6688d9b386a",
   "metadata": {},
   "source": [
    "**5. Write a program that prompts the user to enter their age and prints the\n",
    "corresponding age group. The program should use the following age groups:\n",
    "0-12: Child\n",
    "13-19: Teenager\n",
    "20-59: Adult\n",
    "60 and above: Senior Citizen**"
   ]
  },
  {
   "cell_type": "code",
   "execution_count": 8,
   "id": "5e90363e-10bc-4dac-a556-742104cfbb47",
   "metadata": {},
   "outputs": [
    {
     "name": "stdin",
     "output_type": "stream",
     "text": [
      "Enter your age:  14\n"
     ]
    },
    {
     "name": "stdout",
     "output_type": "stream",
     "text": [
      "Teenager\n"
     ]
    }
   ],
   "source": [
    "age = int(input(\"Enter your age: \"))\n",
    "\n",
    "if 0 <= age <= 12:\n",
    "    print(\"Child\")\n",
    "elif 13 <= age <= 19:\n",
    "    print(\"Teenager\")\n",
    "elif 20 <= age <= 59:\n",
    "    print(\"Adult\")\n",
    "elif age >= 60:\n",
    "    print(\"Senior Citizen\")\n",
    "else:\n",
    "    print(\"Invalid age\")"
   ]
  },
  {
   "cell_type": "markdown",
   "id": "8612625e-33d3-43db-bacb-6a64a9c79783",
   "metadata": {},
   "source": [
    "**6. Write a program that prompts the user to input a number from 1 to 7. The program\n",
    "should display the corresponding day for the given number. For example, if the user\n",
    "types 1, the output should be Sunday. If the user types 7, the output should be\n",
    "Saturday. If the number is not between 1 to 7 user should get error message as shown\n",
    "in sample output.**"
   ]
  },
  {
   "cell_type": "code",
   "execution_count": 9,
   "id": "ed7bdc6c-1328-497b-b0c0-09715c3b3a97",
   "metadata": {},
   "outputs": [
    {
     "name": "stdin",
     "output_type": "stream",
     "text": [
      "Enter a number from 1 to 7:  4\n"
     ]
    },
    {
     "name": "stdout",
     "output_type": "stream",
     "text": [
      "Wednesday\n"
     ]
    }
   ],
   "source": [
    "day_number = int(input(\"Enter a number from 1 to 7: \"))\n",
    "\n",
    "if day_number == 1:\n",
    "    print(\"Sunday\")\n",
    "elif day_number == 2:\n",
    "    print(\"Monday\")\n",
    "elif day_number == 3:\n",
    "    print(\"Tuesday\")\n",
    "elif day_number == 4:\n",
    "    print(\"Wednesday\")\n",
    "elif day_number == 5:\n",
    "    print(\"Thursday\")\n",
    "elif day_number == 6:\n",
    "    print(\"Friday\")\n",
    "elif day_number == 7:\n",
    "    print(\"Saturday\")\n",
    "else:\n",
    "    print(\"Error: Invalid number. Please enter a number between 1 and 7.\")"
   ]
  },
  {
   "cell_type": "markdown",
   "id": "b8584e9d-79a2-44e1-a1f5-556a927797ff",
   "metadata": {},
   "source": [
    "**7. Write a program that prompts the user to enter their weight (in kilograms) and height\n",
    "(in meters). The program should calculate the Body Mass Index (BMI) using the formula:\n",
    "BMI = weight / (height * height). The program should then classify the BMI into one of\n",
    "the following categories:\n",
    "less than 18.5 - Underweight\n",
    "BMI between 18.5 and 24.9 - Normal weight\n",
    "BMI between 25 and 29.9 - Overweight\n",
    "BMI 30 or greater - Obesity**"
   ]
  },
  {
   "cell_type": "code",
   "execution_count": 10,
   "id": "cfe24768-d426-4a4a-acf7-57718546d98e",
   "metadata": {},
   "outputs": [
    {
     "name": "stdin",
     "output_type": "stream",
     "text": [
      "Enter your weight in kilograms:  50\n",
      "Enter your height in meters:  50\n"
     ]
    },
    {
     "name": "stdout",
     "output_type": "stream",
     "text": [
      "Underweight\n"
     ]
    }
   ],
   "source": [
    "weight = float(input(\"Enter your weight in kilograms: \"))\n",
    "height = float(input(\"Enter your height in meters: \"))\n",
    "\n",
    "bmi = weight / (height * height)\n",
    "\n",
    "if bmi < 18.5:\n",
    "    print(\"Underweight\")\n",
    "elif 18.5 <= bmi <= 24.9:\n",
    "    print(\"Normal weight\")\n",
    "elif 25 <= bmi <= 29.9:\n",
    "    print(\"Overweight\")\n",
    "else:\n",
    "    print(\"Obesity\")"
   ]
  },
  {
   "cell_type": "markdown",
   "id": "54150d88-6e78-465d-918a-4da2262af364",
   "metadata": {},
   "source": [
    "**8. The marks obtained by a student in 3 different subjects are input by the user. Your\n",
    "program should calculate the average of subjects and display the grade. The student\n",
    "gets a grade as per the following rules:\n",
    "Average Grade\n",
    "90-100 A\n",
    "80-89 B\n",
    "70-79 C**"
   ]
  },
  {
   "cell_type": "code",
   "execution_count": 16,
   "id": "77a2157b-875c-45db-8788-967bdc08f026",
   "metadata": {},
   "outputs": [
    {
     "name": "stdin",
     "output_type": "stream",
     "text": [
      "Enter the marks for subject 1:  79\n",
      "Enter the marks for subject 2:  78\n",
      "Enter the marks for subject 3:  56\n"
     ]
    },
    {
     "name": "stdout",
     "output_type": "stream",
     "text": [
      "Average marks: 71.0\n",
      "Grade: C\n"
     ]
    }
   ],
   "source": [
    "subject1 = float(input(\"Enter the marks for subject 1: \"))\n",
    "subject2 = float(input(\"Enter the marks for subject 2: \"))\n",
    "subject3 = float(input(\"Enter the marks for subject 3: \"))\n",
    "\n",
    "average = (subject1 + subject2 + subject3) / 3\n",
    "\n",
    "\n",
    "print(f\"Average marks: {average}\")\n",
    "\n",
    "if average >= 90:\n",
    "    print(\"Grade: A\")\n",
    "elif average > 80:\n",
    "    print(\"Grade: B\")\n",
    "elif average > 70:\n",
    "    print(\"Grade: C\")\n",
    "elif average < 60:\n",
    "    print(\"Grade: D\")\n",
    "else:\n",
    "   print(\"Grade: F\") \n"
   ]
  },
  {
   "cell_type": "markdown",
   "id": "345341aa-9abc-48d6-bd09-83656f1668f4",
   "metadata": {},
   "source": [
    "**9. The roots of the quadratic equation ax2\n",
    "\n",
    "+ bx + c = 0, a ≠ 0 are given by the following\n",
    "\n",
    "formula:\n",
    "\n",
    "In this formula, the term b2\n",
    "\n",
    "- 4ac is called the discriminant. If b2\n",
    "\n",
    "- 4ac = 0, then the\n",
    "\n",
    "equation has two equal roots.\n",
    "If b2\n",
    "- 4ac > 0, the equation has two real roots. If b2\n",
    "\n",
    "- 4ac < 0, the equation has two\n",
    "\n",
    "complex roots.\n",
    "Write a program that prompts the user to input the value of a (the coefficient of x2\n",
    "), b\n",
    "(the coefficient of x), and c (the constant term) and outputs the roots of the quadratic\n",
    "equation.**"
   ]
  },
  {
   "cell_type": "code",
   "execution_count": 19,
   "id": "61ab9984-2576-4365-91a2-e2a7105bb2f4",
   "metadata": {},
   "outputs": [
    {
     "name": "stdin",
     "output_type": "stream",
     "text": [
      "Enter the coefficient a (non-zero):  2\n",
      "Enter the coefficient b:  3\n",
      "Enter the constant c:  6\n"
     ]
    },
    {
     "name": "stdout",
     "output_type": "stream",
     "text": [
      "The equation has two complex roots: (-0.75+1.5612494995995996j) and (-0.75-1.5612494995995996j)\n"
     ]
    }
   ],
   "source": [
    "import cmath\n",
    "a = float(input(\"Enter the coefficient a (non-zero): \"))\n",
    "b = float(input(\"Enter the coefficient b: \"))\n",
    "c = float(input(\"Enter the constant c: \"))\n",
    "\n",
    "discriminant = b**2 - 4*a*c\n",
    "\n",
    "\n",
    "root1 = (-b + cmath.sqrt(discriminant)) / (2 * a)\n",
    "root2 = (-b - cmath.sqrt(discriminant)) / (2 * a)\n",
    "\n",
    "\n",
    "if discriminant > 0:\n",
    "    print(f\"The equation has two real roots: {root1.real} and {root2.real}\")\n",
    "elif discriminant == 0:\n",
    "    print(f\"The equation has one real root: {root1.real}\")\n",
    "else:\n",
    "    print(f\"The equation has two complex roots: {root1} and {root2}\")"
   ]
  },
  {
   "cell_type": "markdown",
   "id": "ab0fdd45-6ece-46ab-943f-de52f72578dc",
   "metadata": {},
   "source": [
    "**10. Write a program that prompts the user to enter three numbers and sorts them in\n",
    "ascending order. The program should print the sorted numbers.**"
   ]
  },
  {
   "cell_type": "code",
   "execution_count": 20,
   "id": "b192f4f2-17fe-4b03-adc7-6895a4ccfd3c",
   "metadata": {},
   "outputs": [
    {
     "name": "stdin",
     "output_type": "stream",
     "text": [
      "Enter the first number:  5\n",
      "Enter the second number:  4\n",
      "Enter the third number:  2\n"
     ]
    },
    {
     "name": "stdout",
     "output_type": "stream",
     "text": [
      "The numbers in ascending order are: [2.0, 4.0, 5.0]\n"
     ]
    }
   ],
   "source": [
    "num1 = float(input(\"Enter the first number: \"))\n",
    "num2 = float(input(\"Enter the second number: \"))\n",
    "num3 = float(input(\"Enter the third number: \"))\n",
    "\n",
    "numbers = [num1, num2, num3]\n",
    "\n",
    "numbers.sort()\n",
    "\n",
    "print(\"The numbers in ascending order are:\", numbers)"
   ]
  },
  {
   "cell_type": "markdown",
   "id": "7bc8c94e-e52b-4f7c-92ff-b69211930932",
   "metadata": {},
   "source": [
    "***12. Write a program that prompts the user to input a character and determine the\n",
    "character is vowel or consonant.***"
   ]
  },
  {
   "cell_type": "code",
   "execution_count": 23,
   "id": "38e84b2f-9ec5-4958-aaec-0a4d39d3dc69",
   "metadata": {},
   "outputs": [
    {
     "name": "stdin",
     "output_type": "stream",
     "text": [
      "Enter a character:  a\n"
     ]
    },
    {
     "name": "stdout",
     "output_type": "stream",
     "text": [
      "The character 'a' is a vowel.\n"
     ]
    }
   ],
   "source": [
    "char = input(\"Enter a character: \").lower() \n",
    "\n",
    "if char in 'aeiou':\n",
    "    print(f\"The character '{char}' is a vowel.\")\n",
    "elif char.isalpha(): \n",
    "    print(f\"The character '{char}' is a consonant.\")\n",
    "else:\n",
    "    print(\"Please enter a valid alphabetic character.\")"
   ]
  },
  {
   "cell_type": "markdown",
   "id": "5007395b-89f6-4bbb-8dad-897532e38c14",
   "metadata": {},
   "source": [
    "**13. Write a program that prompts the user to input a year and determine whether the\n",
    "year is a leap year or not.\n",
    "Leap Years are any year that can be evenly divided by 4. A year that is evenly divisible by\n",
    "100 is a leap year only if it is also evenly divisible by 400. Example:\n",
    "1992 Leap Year\n",
    "2000 Leap Year\n",
    "1900 NOT a Leap Year\n",
    "1995 NOT a Leap Year**"
   ]
  },
  {
   "cell_type": "code",
   "execution_count": 22,
   "id": "4ebe16ed-733b-4a84-bf24-5e38f3c73280",
   "metadata": {},
   "outputs": [
    {
     "name": "stdin",
     "output_type": "stream",
     "text": [
      "Enter a year:  1999\n"
     ]
    },
    {
     "name": "stdout",
     "output_type": "stream",
     "text": [
      "1999 is NOT a Leap Year.\n"
     ]
    }
   ],
   "source": [
    "year = int(input(\"Enter a year: \"))\n",
    "\n",
    "if (year % 4 == 0 and year % 100 != 0) or (year % 400 == 0):\n",
    "    print(f\"{year} is a Leap Year.\")\n",
    "else:\n",
    "    print(f\"{year} is NOT a Leap Year.\")"
   ]
  },
  {
   "cell_type": "markdown",
   "id": "ade79a15-a748-428e-9d82-87a1c21d988b",
   "metadata": {},
   "source": [
    "**14. Write a program that prompts the user to input number of calls and calculate the\n",
    "monthly telephone bills as per the following rule:\n",
    "Minimum Rs. 200 for up to 100 calls.\n",
    "Plus Rs. 0.60 per call for next 50 calls.\n",
    "Plus Rs. 0.50 per call for next 50 calls.\n",
    "Plus Rs. 0.40 per call for any call beyond 200 calls.**"
   ]
  },
  {
   "cell_type": "code",
   "execution_count": 24,
   "id": "d2c249d2-ff50-482f-a5cf-31bc0ebd1896",
   "metadata": {},
   "outputs": [
    {
     "name": "stdin",
     "output_type": "stream",
     "text": [
      "Enter the number of calls:  150\n"
     ]
    },
    {
     "name": "stdout",
     "output_type": "stream",
     "text": [
      "The total monthly telephone bill is: Rs. 230.00\n"
     ]
    }
   ],
   "source": [
    "num_calls = int(input(\"Enter the number of calls: \"))\n",
    "\n",
    "bill = 200\n",
    "\n",
    "if num_calls > 100 and num_calls <= 150:\n",
    "    bill += (num_calls - 100) * 0.60\n",
    "elif num_calls > 150 and num_calls <= 200:\n",
    "    bill += (50 * 0.60) + (num_calls - 150) * 0.50\n",
    "elif num_calls > 200:\n",
    "    bill += (50 * 0.60) + (50 * 0.50) + (num_calls - 200) * 0.40\n",
    "\n",
    "print(f\"The total monthly telephone bill is: Rs. {bill:.2f}\")"
   ]
  },
  {
   "cell_type": "code",
   "execution_count": null,
   "id": "28486317-38c4-460f-bffd-828ab9485fb4",
   "metadata": {},
   "outputs": [],
   "source": []
  }
 ],
 "metadata": {
  "kernelspec": {
   "display_name": "Python 3 (ipykernel)",
   "language": "python",
   "name": "python3"
  },
  "language_info": {
   "codemirror_mode": {
    "name": "ipython",
    "version": 3
   },
   "file_extension": ".py",
   "mimetype": "text/x-python",
   "name": "python",
   "nbconvert_exporter": "python",
   "pygments_lexer": "ipython3",
   "version": "3.12.7"
  }
 },
 "nbformat": 4,
 "nbformat_minor": 5
}
