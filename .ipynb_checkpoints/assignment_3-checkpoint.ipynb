{
 "cells": [
  {
   "cell_type": "markdown",
   "id": "f6028487-e4d8-4516-ac20-51e5b4874e06",
   "metadata": {},
   "source": [
    "***Discount and Pricing***"
   ]
  },
  {
   "cell_type": "code",
   "execution_count": 2,
   "id": "4fead412-595e-49ee-abca-4e1c92c6abe8",
   "metadata": {},
   "outputs": [
    {
     "name": "stdin",
     "output_type": "stream",
     "text": [
      "Enter the total purchase amount: $ 100\n"
     ]
    },
    {
     "name": "stdout",
     "output_type": "stream",
     "text": [
      "your total purchasing amount is 100.0\n"
     ]
    }
   ],
   "source": [
    "total_purchase = float(input(\"Enter the total purchase amount: $\"))\n",
    "if total_purchase > 100:\n",
    "    discount = total_purchase*0.10\n",
    "    final_amount = total_purchase - discount\n",
    "    print(\"after 10% discount your final amount is\",final_amount)\n",
    "\n",
    "else:\n",
    "    print(\"your total purchasing amount is\",total_purchase)"
   ]
  },
  {
   "cell_type": "markdown",
   "id": "b685c41f-d740-4c87-8be1-295d494643d6",
   "metadata": {},
   "source": [
    "***Calculate bulk discount***"
   ]
  },
  {
   "cell_type": "code",
   "execution_count": 3,
   "id": "b2f21f67-5f74-403c-b8a9-ef0005eec9d9",
   "metadata": {},
   "outputs": [
    {
     "name": "stdin",
     "output_type": "stream",
     "text": [
      "enter your total items (in numbers) 5\n",
      "enter your all item total price 500\n"
     ]
    },
    {
     "name": "stdout",
     "output_type": "stream",
     "text": [
      "after 15% discount your payable amount is 425.0\n"
     ]
    }
   ],
   "source": [
    "total_item = int(input(\"enter your total items (in numbers)\"))\n",
    "total_price = float(input(\"enter your all item total price\"))\n",
    "if total_item>=5:\n",
    "    discount = total_price*0.15\n",
    "    final_amount = total_price - discount\n",
    "    print(\"after 15% discount your payable amount is\",final_amount)\n",
    "\n",
    "else:\n",
    "    print(\"your payable amount is\",total_price)"
   ]
  },
  {
   "cell_type": "code",
   "execution_count": 11,
   "id": "43f74105-ef9a-4173-860c-b9416d24a4b3",
   "metadata": {},
   "outputs": [
    {
     "name": "stdin",
     "output_type": "stream",
     "text": [
      "Enter the total purchase amount: $ 500\n",
      "Are you a member? (yes/no):  yes\n"
     ]
    },
    {
     "name": "stdout",
     "output_type": "stream",
     "text": [
      "after 20% discount your payable amount is 400.0\n"
     ]
    }
   ],
   "source": [
    "total_purchase = float(input(\"Enter the total purchase amount: $\"))\n",
    "member = input(\"Are you a member? (yes/no): \").strip().lower() \n",
    "if member == \"yes\":\n",
    "    discount = total_purchase*0.20\n",
    "    final_amount = total_purchase - discount\n",
    "    print(\"after 20% discount your payable amount is\",final_amount)\n",
    "\n",
    "else:\n",
    "    discount = total_purchase*0.05\n",
    "    final_amount = total_purchase - discount\n",
    "    print(\"after 5% discount your payable amount is\",final_amount)\n"
   ]
  },
  {
   "cell_type": "markdown",
   "id": "adc34293-a779-440d-8d15-83e0432e87e1",
   "metadata": {},
   "source": [
    "***Season Sale***"
   ]
  },
  {
   "cell_type": "code",
   "execution_count": null,
   "id": "03f6f60f-d978-4c12-8602-03a62f91bdb3",
   "metadata": {},
   "outputs": [],
   "source": [
    "total_purchase = float(input(\"Enter the total purchase amount: $\"))\n",
    "holiday = input(\"today is a holiday? (yes/no): \").strip().lower() \n",
    "if member == \"yes\":\n",
    "    discount = total_purchase*0.25\n",
    "    final_amount = total_purchase - discount\n",
    "    print(\"after 20% discount your payable amount is\",final_amount)\n",
    "\n",
    "else:\n",
    "    discount = total_purchase*0.10\n",
    "    final_amount = total_purchase - discount\n",
    "    print(\"after 5% discount your payable amount is\",final_amount)"
   ]
  },
  {
   "cell_type": "markdown",
   "id": "c41e88b5-3741-4c8f-817c-a58c8466520e",
   "metadata": {},
   "source": [
    "***Tax Calculation***"
   ]
  },
  {
   "cell_type": "code",
   "execution_count": 14,
   "id": "01219521-8787-4d58-9574-326c3bc3d569",
   "metadata": {},
   "outputs": [
    {
     "name": "stdin",
     "output_type": "stream",
     "text": [
      "Enter the total purchase amount: $ 500\n"
     ]
    },
    {
     "name": "stdout",
     "output_type": "stream",
     "text": [
      "after 8% tax your total amount is: 460.0\n"
     ]
    }
   ],
   "source": [
    "item_price = float(input(\"Enter the total purchase amount: $\"))\n",
    "if item_price > 500:\n",
    "    tax = item_price*0.15\n",
    "    final_amount = item_price - tax\n",
    "    print(\"after 15% tax your total amount is\",final_amount)\n",
    "\n",
    "else:\n",
    "    tax = item_price*0.08\n",
    "    final_amount = item_price - tax\n",
    "    print(\"after 8% tax your total amount is:\",final_amount)"
   ]
  },
  {
   "cell_type": "markdown",
   "id": "2052cc54-2d92-474e-803c-67014e5333da",
   "metadata": {},
   "source": [
    "***Income Tax***"
   ]
  },
  {
   "cell_type": "code",
   "execution_count": 16,
   "id": "e6628201-54b2-4beb-8e91-52e5e5dc6a6e",
   "metadata": {},
   "outputs": [
    {
     "name": "stdin",
     "output_type": "stream",
     "text": [
      "enter your annual income (in Dollars) 60000\n"
     ]
    },
    {
     "name": "stdout",
     "output_type": "stream",
     "text": [
      "your payable tax amount is: 12000.0\n"
     ]
    }
   ],
   "source": [
    "annual_income = float(input(\"enter your annual income (in Dollars)\"))\n",
    "if annual_income > 50000:\n",
    "    tax = annual_income*0.20\n",
    "    print(\"your payable tax amount is:\",tax)\n",
    "\n",
    "else:\n",
    "    tax = annual_income*0.10\n",
    "    print(\"your payable tax amount is:\",tax)"
   ]
  },
  {
   "cell_type": "markdown",
   "id": "82895312-5710-444f-9cf1-a76010e7d25f",
   "metadata": {},
   "source": [
    "***Tax Bracket***"
   ]
  },
  {
   "cell_type": "code",
   "execution_count": 19,
   "id": "cd8205d5-4d3f-44c3-9df6-1a4287889037",
   "metadata": {},
   "outputs": [
    {
     "name": "stdin",
     "output_type": "stream",
     "text": [
      "Enter your income:  40000\n"
     ]
    },
    {
     "name": "stdout",
     "output_type": "stream",
     "text": [
      "Your tax bracket is:Medium Tax\n"
     ]
    }
   ],
   "source": [
    "income = float(input(\"Enter your income: \"))\n",
    "if income < 30000:\n",
    "    print(\"Your tax bracket is:Low Tax\")\n",
    "elif 30000 <= income < 100000:\n",
    "    print(\"Your tax bracket is:Medium Tax\")\n",
    "else:\n",
    "    print(\"Your tax bracket is:High Tax\")\n",
    "\n"
   ]
  },
  {
   "cell_type": "markdown",
   "id": "3093898b-e82c-4f1d-a0d8-9b3c61678c23",
   "metadata": {},
   "source": [
    "***VAT Calculation***"
   ]
  },
  {
   "cell_type": "code",
   "execution_count": 3,
   "id": "6c7d0eec-57bd-4553-81bf-6f0a38767edc",
   "metadata": {},
   "outputs": [
    {
     "name": "stdin",
     "output_type": "stream",
     "text": [
      "Enter the price of the item:  1200\n",
      "Is the item essential? (True/False):  true\n"
     ]
    },
    {
     "name": "stdout",
     "output_type": "stream",
     "text": [
      "The final price of the item is: $1140.0\n"
     ]
    }
   ],
   "source": [
    "price = float(input(\"Enter the price of the item: \"))\n",
    "is_essential = input(\"Is the item essential? (True/False): \").strip().lower() == 'true'\n",
    "if is_essential:\n",
    "    vat_amount = price * 0.05\n",
    "    final_price = price - vat_amount\n",
    "    print(f\"The final price of the item is: ${final_price}\")\n",
    "else:\n",
    "    vat_amount = price *  0.12\n",
    "    final_price = price - vat_amount\n",
    "    print(f\"The final price of the item is: ${final_price}\")\n"
   ]
  },
  {
   "cell_type": "markdown",
   "id": "e4276579-e977-474c-a504-7345cfe202db",
   "metadata": {},
   "source": [
    "***Tax-Free Day***"
   ]
  },
  {
   "cell_type": "code",
   "execution_count": 5,
   "id": "53afe52d-897d-4358-90d0-df7be60d9bf3",
   "metadata": {},
   "outputs": [
    {
     "name": "stdout",
     "output_type": "stream",
     "text": [
      "the original price is 107.0\n"
     ]
    }
   ],
   "source": [
    "original_price = 100  # Example price\n",
    "tax_free = False\n",
    "if tax_free:\n",
    "    print(\"the original price is\",original_price)\n",
    "else:\n",
    "    tax = 0.07 * original_price\n",
    "    final_price = original_price + tax\n",
    "    print(\"the original price is\",final_price)"
   ]
  },
  {
   "cell_type": "markdown",
   "id": "6ed2b331-22f9-4e90-877d-08afece6df31",
   "metadata": {},
   "source": [
    "***C- Shopping and Billing***\n",
    "***11. Free Shipping***"
   ]
  },
  {
   "cell_type": "code",
   "execution_count": 7,
   "id": "c483893a-5bda-4222-85b9-8434356d8d08",
   "metadata": {},
   "outputs": [
    {
     "name": "stdin",
     "output_type": "stream",
     "text": [
      "please enter your total price(in dollar) 40\n"
     ]
    },
    {
     "name": "stdout",
     "output_type": "stream",
     "text": [
      "your total +shipping charges is: 42.0\n"
     ]
    }
   ],
   "source": [
    "total_price = float(input(\"please enter your total price(in dollar)\"))\n",
    "shipping = total_price*0.05\n",
    "if total_price >50:\n",
    "    print(\"your shipping is free\")\n",
    "else:\n",
    "    total_amount = total_price+shipping\n",
    "    print(\"your total +shipping charges is:\",total_amount)\n",
    "    "
   ]
  },
  {
   "cell_type": "markdown",
   "id": "e095527b-414e-4d35-9620-bbe6f6fec0e1",
   "metadata": {},
   "source": [
    "***Discount Code***"
   ]
  },
  {
   "cell_type": "code",
   "execution_count": null,
   "id": "8b6912ff-77b7-4bff-be35-70d0deb5dd7b",
   "metadata": {},
   "outputs": [],
   "source": [
    "total_amount = float(input(\"please enter your total amount\"))\n",
    "discount_code = input(\"please enter correct discount code\")\n",
    "if discount_code == \"DISCOUNT10\":\n",
    "    discount = total_amount*0.10\n",
    "    final_price = total_amount - discount\n",
    "    print(\"after 10% discount your final price is:\",final_price)\n",
    "\n",
    "else:\n",
    "    print(\"your discount code is incorrect\")\n",
    "    print(\"your payable amount is:\",total_amount)"
   ]
  },
  {
   "cell_type": "markdown",
   "id": "cbb92f73-b1d0-495f-9392-5f9216dbfda6",
   "metadata": {},
   "source": [
    "***Tiered Discounts***"
   ]
  },
  {
   "cell_type": "code",
   "execution_count": 15,
   "id": "70563b9e-71ac-4db9-899d-0f01f09daea1",
   "metadata": {},
   "outputs": [
    {
     "name": "stdin",
     "output_type": "stream",
     "text": [
      "please enter your total amount(IN DOLLARS 1000\n"
     ]
    },
    {
     "name": "stdout",
     "output_type": "stream",
     "text": [
      "after 10% discount your currentprice is: 900.0\n"
     ]
    }
   ],
   "source": [
    "total_amount = float(input(\"please enter your total amount(IN DOLLARS\"))\n",
    "if total_amount<50:\n",
    "    print(\"you are not eligible for discount\")\n",
    "\n",
    "elif total_amount>=50:\n",
    "    discount = total_amount*0.10\n",
    "    final_price = total_amount - discount\n",
    "    print(\"after 10% discount your currentprice is:\",final_price)\n",
    "    \n",
    "elif total_amount>=100:\n",
    "    discount = total_amount*0.20\n",
    "    final_price = total_amount - discount\n",
    "    print(\"after 20 discount your currentprice is:\",final_price)"
   ]
  },
  {
   "cell_type": "markdown",
   "id": "1ef512f2-60f8-4eac-b013-35b01da2fa41",
   "metadata": {},
   "source": [
    "***Minimum Purchase Requirement***"
   ]
  },
  {
   "cell_type": "code",
   "execution_count": 18,
   "id": "c4bf2f25-a922-42a9-918d-16c157cd16f3",
   "metadata": {},
   "outputs": [
    {
     "name": "stdin",
     "output_type": "stream",
     "text": [
      "enter your total purchasing price (in dollars) 20\n"
     ]
    },
    {
     "name": "stdout",
     "output_type": "stream",
     "text": [
      "your purchasing price is: 20.0\n"
     ]
    }
   ],
   "source": [
    "total_price = float(input(\"enter your total purchasing price (in dollars)\"))\n",
    "if total_price<20:\n",
    "    print(\"Minimum purchase of $20 is required.\")\n",
    "\n",
    "else:\n",
    "    print(\"your purchasing price is:\",total_price)"
   ]
  },
  {
   "cell_type": "markdown",
   "id": "20a2846b-ec08-42de-bb81-98e0c3de633e",
   "metadata": {},
   "source": [
    "***Travel Discount***"
   ]
  },
  {
   "cell_type": "code",
   "execution_count": null,
   "id": "2b562284-8a17-4ca8-9857-8691806ef850",
   "metadata": {},
   "outputs": [],
   "source": [
    "ticket_price = 200 \n",
    "miles_travelled = 600\n",
    "\n",
    "if miles_travelled > 500:\n",
    "    discount = 0.20 * ticket_price \n",
    "    final_price = ticket_price - discount\n",
    "    print(\"after 20% discount your final ticket price is:\",final_price)\n",
    "else:\n",
    "    final_price = ticket_price  \n",
    "    print(\"your ticket price is:\",final_price)"
   ]
  },
  {
   "cell_type": "markdown",
   "id": "3f021866-f195-4074-bfc6-1bbc0e24cc92",
   "metadata": {},
   "source": [
    "***Child or Senior Discount***"
   ]
  },
  {
   "cell_type": "code",
   "execution_count": 22,
   "id": "570ea531-91e7-4df4-b76c-1c3f27e86deb",
   "metadata": {},
   "outputs": [
    {
     "name": "stdin",
     "output_type": "stream",
     "text": [
      "please enter your current age: 24\n"
     ]
    },
    {
     "name": "stdout",
     "output_type": "stream",
     "text": [
      "your ticket price is: 500\n"
     ]
    }
   ],
   "source": [
    "ticket_price = 500\n",
    "age = int(input(\"please enter your current age:\"))\n",
    "if age <=12 or age>60:\n",
    "    discount = ticket_price*0.15\n",
    "    final_price = ticket_price - discount\n",
    "    print(\"after 15% discount your ticket final price is:\",final_price)\n",
    "\n",
    "else:\n",
    "    print(\"your ticket price is:\",ticket_price)\n",
    "    "
   ]
  },
  {
   "cell_type": "markdown",
   "id": "4fbc34f2-2267-4c0a-80f5-b071421b165f",
   "metadata": {},
   "source": [
    "***Ticket Type Pricing***"
   ]
  },
  {
   "cell_type": "code",
   "execution_count": 23,
   "id": "cbd78af5-0e35-4b8e-9878-296c55ca348e",
   "metadata": {},
   "outputs": [
    {
     "name": "stdout",
     "output_type": "stream",
     "text": [
      "Final ticket price: $220.0\n"
     ]
    }
   ],
   "source": [
    "ticket_price = 200\n",
    "is_weekend = True\n",
    "if is_weekend:\n",
    "    surcharge = 0.10 * ticket_price \n",
    "    ticket_price += surcharge\n",
    "    print(f\"Final ticket price: ${ticket_price:}\")\n",
    "\n",
    "else:\n",
    "    print(\"standard ticket price is:\",ticket_price)"
   ]
  },
  {
   "cell_type": "markdown",
   "id": "2cc8e350-6fa0-408c-adf4-c7b2752e83a8",
   "metadata": {},
   "source": [
    "***Baggage Fee***"
   ]
  },
  {
   "cell_type": "code",
   "execution_count": 25,
   "id": "0897c150-e601-4378-8058-cfdfbcc3c45d",
   "metadata": {},
   "outputs": [
    {
     "name": "stdout",
     "output_type": "stream",
     "text": [
      "Extra baggage fee: $50\n"
     ]
    }
   ],
   "source": [
    "baggage_weight = 25 \n",
    "standard_weight_limit = 20  \n",
    "extra_fee_per_kg = 10 \n",
    "\n",
    "\n",
    "if baggage_weight > standard_weight_limit:\n",
    "    extra_fee = (baggage_weight - standard_weight_limit) * extra_fee_per_kg\n",
    "    print(f\"Extra baggage fee: ${extra_fee:}\")\n",
    "else:\n",
    "    print(\"No extra baggage fee.\")"
   ]
  },
  {
   "cell_type": "markdown",
   "id": "6c84eaa0-7d52-4780-8755-877897589fdf",
   "metadata": {},
   "source": [
    "***Early Bird Discount***"
   ]
  },
  {
   "cell_type": "code",
   "execution_count": 28,
   "id": "a4a95887-cb70-4e0a-b6cd-761e69f471ab",
   "metadata": {},
   "outputs": [
    {
     "name": "stdout",
     "output_type": "stream",
     "text": [
      "Final ticket price: $180.0\n"
     ]
    }
   ],
   "source": [
    "ticket_price = 200 \n",
    "days_in_advance = 40 \n",
    "\n",
    "\n",
    "if days_in_advance > 30:\n",
    "    discount = 0.10 * ticket_price  \n",
    "    ticket_price -= discount\n",
    "    print(f\"Final ticket price: ${ticket_price:}\")\n",
    "\n",
    "else:\n",
    "    print(f\"your ticket price is:{ticket_price}\")"
   ]
  },
  {
   "cell_type": "markdown",
   "id": "f2139736-a16c-498c-bb8c-bc7fd5e67741",
   "metadata": {},
   "source": [
    "***Pass or Fail***"
   ]
  },
  {
   "cell_type": "code",
   "execution_count": 29,
   "id": "3ce641fd-d26a-477d-9f04-ad1e5098daba",
   "metadata": {},
   "outputs": [
    {
     "name": "stdout",
     "output_type": "stream",
     "text": [
      "Pass\n"
     ]
    }
   ],
   "source": [
    "score = 45  \n",
    "\n",
    "if score >= 40:\n",
    "    print(\"Pass\")\n",
    "else:\n",
    "    print(\"Fail\")"
   ]
  },
  {
   "cell_type": "markdown",
   "id": "68e775e1-2d65-4d1f-8046-de76c203df85",
   "metadata": {},
   "source": [
    "***Grade Assignment***"
   ]
  },
  {
   "cell_type": "code",
   "execution_count": 30,
   "id": "8b6dc4d2-2b47-4831-8c4d-3789932b7e00",
   "metadata": {},
   "outputs": [
    {
     "name": "stdout",
     "output_type": "stream",
     "text": [
      "B\n"
     ]
    }
   ],
   "source": [
    "score = 85 \n",
    "\n",
    "if score >= 90:\n",
    "    print(\"A\")\n",
    "elif score >= 75:\n",
    "    print(\"B\")\n",
    "elif score >= 50:\n",
    "    print(\"C\")\n",
    "else:\n",
    "    print(\"F\")"
   ]
  },
  {
   "cell_type": "markdown",
   "id": "9747effb-5445-4a50-87f8-cae7de05749a",
   "metadata": {},
   "source": [
    "***Bonus Marks***"
   ]
  },
  {
   "cell_type": "code",
   "execution_count": 31,
   "id": "3cef836d-98d1-4d37-8ac9-21ea901a691a",
   "metadata": {},
   "outputs": [
    {
     "name": "stdout",
     "output_type": "stream",
     "text": [
      "Final score: 85\n"
     ]
    }
   ],
   "source": [
    "score = 80  \n",
    "completed_all_assignments = True  \n",
    "\n",
    "if completed_all_assignments:\n",
    "    score += 5 \n",
    "\n",
    "print(f\"Final score: {score}\")"
   ]
  },
  {
   "cell_type": "markdown",
   "id": "57a1666c-bd72-427d-ae41-1474054210b3",
   "metadata": {},
   "source": [
    "***attendance_percentage***"
   ]
  },
  {
   "cell_type": "code",
   "execution_count": 32,
   "id": "59a4d31b-50a4-4f2e-aa79-5f8ffc551f02",
   "metadata": {},
   "outputs": [
    {
     "name": "stdout",
     "output_type": "stream",
     "text": [
      "Eligible to take the exam.\n"
     ]
    }
   ],
   "source": [
    "attendance_percentage = 80  \n",
    "\n",
    "if attendance_percentage >= 75:\n",
    "    print(\"Eligible to take the exam.\")\n",
    "else:\n",
    "    print(\"Not eligible to take the exam.\")"
   ]
  },
  {
   "cell_type": "markdown",
   "id": "940c4bb7-33ee-4093-b38c-ce11fee079ce",
   "metadata": {},
   "source": [
    "***Scholarship Eligibility***"
   ]
  },
  {
   "cell_type": "code",
   "execution_count": 33,
   "id": "b86d5a1c-91f3-47ab-aee2-f548250fffae",
   "metadata": {},
   "outputs": [
    {
     "name": "stdout",
     "output_type": "stream",
     "text": [
      "Eligible for a scholarship.\n"
     ]
    }
   ],
   "source": [
    "grade = \"A\" \n",
    "family_income = 25000\n",
    "\n",
    "if grade == \"A\" and family_income < 30000:\n",
    "    print(\"Eligible for a scholarship.\")\n",
    "else:\n",
    "    print(\"Not eligible for a scholarship.\")\n",
    "    "
   ]
  },
  {
   "cell_type": "markdown",
   "id": "1ec47b88-38ee-4acd-a990-db069bae648a",
   "metadata": {},
   "source": []
  },
  {
   "cell_type": "code",
   "execution_count": null,
   "id": "fb37328d-23cd-435c-8924-cdf44affe3cd",
   "metadata": {},
   "outputs": [],
   "source": []
  }
 ],
 "metadata": {
  "kernelspec": {
   "display_name": "Python 3 (ipykernel)",
   "language": "python",
   "name": "python3"
  },
  "language_info": {
   "codemirror_mode": {
    "name": "ipython",
    "version": 3
   },
   "file_extension": ".py",
   "mimetype": "text/x-python",
   "name": "python",
   "nbconvert_exporter": "python",
   "pygments_lexer": "ipython3",
   "version": "3.12.7"
  }
 },
 "nbformat": 4,
 "nbformat_minor": 5
}
