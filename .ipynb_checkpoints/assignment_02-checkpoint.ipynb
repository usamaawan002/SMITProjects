{
 "cells": [
  {
   "cell_type": "markdown",
   "id": "f866b9e0-c39c-496b-adca-1072c25efc01",
   "metadata": {},
   "source": [
    "1) Area of a Rectangle:"
   ]
  },
  {
   "cell_type": "code",
   "execution_count": 6,
   "id": "eab71818-4ce5-4224-a44a-82643219328f",
   "metadata": {},
   "outputs": [
    {
     "name": "stdin",
     "output_type": "stream",
     "text": [
      "enter the length of a rectangle 40\n",
      "enter the width of a rectangle 60\n"
     ]
    },
    {
     "name": "stdout",
     "output_type": "stream",
     "text": [
      "the area of a rectangle is 2400\n"
     ]
    }
   ],
   "source": [
    "length = int(input(\"enter the length of a rectangle\"))\n",
    "width = int(input(\"enter the width of a rectangle\"))\n",
    "area = width*length\n",
    "print(\"the area of a rectangle is\",area)"
   ]
  },
  {
   "cell_type": "markdown",
   "id": "6035c8d0-b002-4894-954e-139b50950901",
   "metadata": {},
   "source": [
    "2) Circumference of a Circle:"
   ]
  },
  {
   "cell_type": "code",
   "execution_count": 8,
   "id": "80681b98-ef78-455c-ac34-62cf80a07e9d",
   "metadata": {},
   "outputs": [
    {
     "name": "stdin",
     "output_type": "stream",
     "text": [
      "Enter the radius of the circle:  50\n"
     ]
    },
    {
     "name": "stdout",
     "output_type": "stream",
     "text": [
      "Circumference of a Circle is {157.0795}\n"
     ]
    }
   ],
   "source": [
    "radius = float(input(\"Enter the radius of the circle: \"))\n",
    "circumference = 3.14159*radius\n",
    "print(f\"Circumference of a Circle is\",{circumference})"
   ]
  },
  {
   "cell_type": "code",
   "execution_count": 9,
   "id": "af8eeb66-85ec-4b99-ae61-dd47e59ab3eb",
   "metadata": {},
   "outputs": [
    {
     "name": "stdin",
     "output_type": "stream",
     "text": [
      "Enter the principal 500\n",
      "Enter the Rate 400\n",
      "Enter the Time 2\n"
     ]
    },
    {
     "name": "stdout",
     "output_type": "stream",
     "text": [
      "the simple intrest is {400000.0}\n"
     ]
    }
   ],
   "source": [
    "principal = float(input(\"Enter the principal amount\"))\n",
    "rate = float(input(\"Enter the Rate of intrest\"))\n",
    "time = float(input(\"Enter the Time perioud(in year)\"))\n",
    "simple_intrest = principal*rate*time\n",
    "\n",
    "print(f\"the simple intrest is\",{simple_intrest})"
   ]
  },
  {
   "cell_type": "markdown",
   "id": "07f6fec9-5e07-4f42-8226-af422b15bcc3",
   "metadata": {},
   "source": [
    "4) Speed of an Object:"
   ]
  },
  {
   "cell_type": "code",
   "execution_count": 10,
   "id": "3805f40b-cd71-4c4f-b0d7-d1ff09fa986f",
   "metadata": {},
   "outputs": [
    {
     "name": "stdin",
     "output_type": "stream",
     "text": [
      "Enter the distance traveled (in meters):  200\n",
      "Enter the time taken (in seconds):  10\n"
     ]
    },
    {
     "name": "stdout",
     "output_type": "stream",
     "text": [
      "the speed of the object is {20.0}\n"
     ]
    }
   ],
   "source": [
    "distance = float(input(\"Enter the distance traveled (in meters): \"))\n",
    "time = float(input(\"Enter the time taken (in seconds): \"))\n",
    "speed = distance/time\n",
    "print(f\"the speed of the object is\",{speed})"
   ]
  },
  {
   "cell_type": "markdown",
   "id": "dbc1c9fd-8c73-4776-91a3-d0ba1d139fb7",
   "metadata": {},
   "source": [
    "BMI Calculator:"
   ]
  },
  {
   "cell_type": "code",
   "execution_count": 15,
   "id": "036cf19b-6b53-4395-ad75-65c0c6c3584c",
   "metadata": {},
   "outputs": [
    {
     "name": "stdin",
     "output_type": "stream",
     "text": [
      "Enter the weight (in kg):  70\n",
      "Enter the height (in meter):  76\n"
     ]
    },
    {
     "name": "stdout",
     "output_type": "stream",
     "text": [
      "0.012119113573407203\n"
     ]
    }
   ],
   "source": [
    "weight = float(input(\"Enter the weight (in kg): \"))\n",
    "height = float(input(\"Enter the height (in meter): \"))\n",
    "bmi = weight/(height**2)\n",
    "print(bmi)\n"
   ]
  },
  {
   "cell_type": "markdown",
   "id": "184904f5-a1a8-4475-9570-12feea94ca4c",
   "metadata": {},
   "source": [
    "Force Using Newton's Second Law:"
   ]
  },
  {
   "cell_type": "code",
   "execution_count": 16,
   "id": "7ef33f00-4eba-48c5-b512-8465bb6420ff",
   "metadata": {},
   "outputs": [
    {
     "name": "stdin",
     "output_type": "stream",
     "text": [
      "Enter the mass of the object (in kilograms):  80\n",
      "Enter the acceleration of the object (in meters per second squared):  50\n"
     ]
    },
    {
     "name": "stdout",
     "output_type": "stream",
     "text": [
      "4000.0\n"
     ]
    }
   ],
   "source": [
    "mass = float(input(\"Enter the mass of the object (in kilograms): \"))\n",
    "acceleration = float(input(\"Enter the acceleration of the object (in meters per second squared): \"))\n",
    "force = mass*acceleration\n",
    "print(force)"
   ]
  },
  {
   "cell_type": "markdown",
   "id": "6ce8b809-fa81-434f-af03-7065419736d0",
   "metadata": {},
   "source": [
    "Compound Interest:"
   ]
  },
  {
   "cell_type": "code",
   "execution_count": 17,
   "id": "d56094bb-1f4a-4b26-bf14-205be8fbeeee",
   "metadata": {},
   "outputs": [
    {
     "name": "stdin",
     "output_type": "stream",
     "text": [
      "Enter the principal amount (P):  500\n",
      "Enter the annual interest rate (in %):  50\n",
      "Enter the time period in years (t):  2\n",
      "Enter the number of times interest is compounded per year (n):  400\n"
     ]
    },
    {
     "name": "stdout",
     "output_type": "stream",
     "text": [
      "The compound intrest is {822.0468756710836}\n"
     ]
    }
   ],
   "source": [
    "principal = float(input(\"Enter the principal amount (P): \"))\n",
    "rate = float(input(\"Enter the annual interest rate (in %): \")) / 100  # Convert to decimal\n",
    "time = float(input(\"Enter the time period in years (t): \"))\n",
    "compounds_per_year = int(input(\"Enter the number of times interest is compounded per year (n): \"))\n",
    "total_amount = principal*(1+rate/compounds_per_year) ** (compounds_per_year - time)\n",
    "print(f\"The compound intrest is\",{total_amount})"
   ]
  },
  {
   "cell_type": "markdown",
   "id": "e027afe1-1291-486d-a578-2d1429b61aae",
   "metadata": {},
   "source": [
    "Perimeter of a Triangle:"
   ]
  },
  {
   "cell_type": "code",
   "execution_count": 18,
   "id": "fe240c00-c9ed-4b5e-a5a1-daa13a05b56a",
   "metadata": {},
   "outputs": [
    {
     "name": "stdin",
     "output_type": "stream",
     "text": [
      "Enter the length of the first side (a):  10\n",
      "Enter the length of the second side (b):  20\n",
      "Enter the length of the third side (c):  30\n"
     ]
    },
    {
     "name": "stdout",
     "output_type": "stream",
     "text": [
      "the perimeter of a tringle is {60.0}\n"
     ]
    }
   ],
   "source": [
    "a = float(input(\"Enter the length of the first side (a): \"))\n",
    "b = float(input(\"Enter the length of the second side (b): \"))\n",
    "c = float(input(\"Enter the length of the third side (c): \"))\n",
    "perimeter = a+b+c\n",
    "print(f\"the perimeter of a tringle is\",{perimeter})"
   ]
  },
  {
   "cell_type": "markdown",
   "id": "3efea753-7938-457e-a18a-4a9a32d5666b",
   "metadata": {},
   "source": [
    "9) Volume of a Sphere:"
   ]
  },
  {
   "cell_type": "code",
   "execution_count": 19,
   "id": "a6246d96-093f-442f-a55b-e4dd9ec4760e",
   "metadata": {},
   "outputs": [
    {
     "name": "stdin",
     "output_type": "stream",
     "text": [
      "Enter the radius of the sphere:  90\n"
     ]
    },
    {
     "name": "stdout",
     "output_type": "stream",
     "text": [
      "the volume of a sphere is 3053625.4799999995\n"
     ]
    }
   ],
   "source": [
    "radius = float(input(\"Enter the radius of the sphere: \"))\n",
    "volume = 4/3*3.14159*radius**3\n",
    "print(\"the volume of a sphere is\",volume)"
   ]
  },
  {
   "cell_type": "markdown",
   "id": "383b16a8-baea-4750-9c39-3e068f033951",
   "metadata": {},
   "source": [
    "Kinetic Energy:"
   ]
  },
  {
   "cell_type": "code",
   "execution_count": 20,
   "id": "a7b597fe-c615-403d-81ee-cac540c2832d",
   "metadata": {},
   "outputs": [
    {
     "name": "stdin",
     "output_type": "stream",
     "text": [
      "Enter the mass of the object (in kilograms):  100\n",
      "Enter the velocity of the object (in meters per second):  20\n"
     ]
    },
    {
     "name": "stdout",
     "output_type": "stream",
     "text": [
      "the kinetic energy is 20000.0\n"
     ]
    }
   ],
   "source": [
    "mass = float(input(\"Enter the mass of the object (in kilograms): \"))\n",
    "velocity = float(input(\"Enter the velocity of the object (in meters per second): \"))\n",
    "kinetic_energy = 1/2*mass*velocity**2\n",
    "print(\"the kinetic energy is\",kinetic_energy)"
   ]
  },
  {
   "cell_type": "markdown",
   "id": "10449be9-65e1-42a7-aebf-0b8ddddae559",
   "metadata": {},
   "source": [
    "Quadratic Equation Roots:"
   ]
  },
  {
   "cell_type": "code",
   "execution_count": 4,
   "id": "e0b9a5fa-6145-4f07-86d1-0cb848733a60",
   "metadata": {},
   "outputs": [
    {
     "name": "stdin",
     "output_type": "stream",
     "text": [
      "please enter the value of (a) 2\n",
      "please enter the value of (b) 3\n",
      "please enter the value of (c) 4\n"
     ]
    },
    {
     "name": "stdout",
     "output_type": "stream",
     "text": [
      "the answer of a quadratic equation is (-0.75+1.1989578808281798j) (-0.75-1.1989578808281798j)\n"
     ]
    }
   ],
   "source": [
    "import cmath\n",
    "a = int(input(\"please enter the value of (a)\"))\n",
    "b = int(input(\"please enter the value of (b)\"))\n",
    "c = int(input(\"please enter the value of (c)\"))\n",
    "\n",
    "root_1 = (-b+cmath.sqrt(b**2-4*a*c))/(2*a)\n",
    "root_2 = (-b-cmath.sqrt(b**2-4*a*c))/(2*a)\n",
    "\n",
    "print(\"the answer of a quadratic equation is\",root_1,root_2)"
   ]
  },
  {
   "cell_type": "markdown",
   "id": "bd02f23e-a0de-429e-b770-4dc82a78d682",
   "metadata": {},
   "source": [
    "12) Temperature Conversion:"
   ]
  },
  {
   "cell_type": "code",
   "execution_count": 5,
   "id": "7ac2153f-35ff-4881-abdf-b6e909a83523",
   "metadata": {},
   "outputs": [
    {
     "name": "stdin",
     "output_type": "stream",
     "text": [
      "Enter temperature in Celsius:  25.5\n"
     ]
    },
    {
     "name": "stdout",
     "output_type": "stream",
     "text": [
      "25.5°C is equal to 39.2°F\n"
     ]
    }
   ],
   "source": [
    "celsius = float(input(\"Enter temperature in Celsius: \"))\n",
    "fahrenheit= 9/5*c +32\n",
    "print(f\"{celsius}°C is equal to {fahrenheit}°F\")"
   ]
  },
  {
   "cell_type": "markdown",
   "id": "c300e795-248f-42f5-8325-2387d9f295c7",
   "metadata": {},
   "source": [
    "Gravitational Force:"
   ]
  },
  {
   "cell_type": "code",
   "execution_count": 23,
   "id": "3e54c3c3-fa2b-43c8-86d4-3e5c98424557",
   "metadata": {},
   "outputs": [
    {
     "name": "stdin",
     "output_type": "stream",
     "text": [
      "Enter the mass of the first object (in kilograms):  50\n",
      "Enter the mass of the second object (in kilograms):  60\n",
      "Enter the distance between the centers of the two objects (in meters):  39\n"
     ]
    },
    {
     "name": "stdout",
     "output_type": "stream",
     "text": [
      "The gravitational force between the two objects is: 1.3163708086785008e-10 newtons\n"
     ]
    }
   ],
   "source": [
    "mass1 = float(input(\"Enter the mass of the first object (in kilograms): \"))\n",
    "mass2 = float(input(\"Enter the mass of the second object (in kilograms): \"))\n",
    "distance = float(input(\"Enter the distance between the centers of the two objects (in meters): \"))\n",
    "# Gravitational constant (in N·m²/kg²)\n",
    "G = 6.674 * 10**-11\n",
    "force = (G * mass1 * mass2) / (distance ** 2)\n",
    "print(f\"The gravitational force between the two objects is: {force} newtons\")"
   ]
  },
  {
   "cell_type": "markdown",
   "id": "421e4c69-c249-4329-90fa-c947d9c6a022",
   "metadata": {},
   "source": [
    "Volume of a Cylinder:"
   ]
  },
  {
   "cell_type": "code",
   "execution_count": 24,
   "id": "039e56b2-b54c-434a-883a-b07d9951d6ed",
   "metadata": {},
   "outputs": [
    {
     "name": "stdin",
     "output_type": "stream",
     "text": [
      "Enter the radius of the cylinder (in meters):  90\n",
      "Enter the height of the cylinder (in meters):  39\n"
     ]
    },
    {
     "name": "stdout",
     "output_type": "stream",
     "text": [
      "The volume of the cylinder is: 992428.28 cubic meters\n"
     ]
    }
   ],
   "source": [
    "radius = float(input(\"Enter the radius of the cylinder (in meters): \"))\n",
    "height = float(input(\"Enter the height of the cylinder (in meters): \"))\n",
    "volume = 3.14159*radius**2*height\n",
    "print(f\"The volume of the cylinder is: {volume:.2f} cubic meters\")"
   ]
  },
  {
   "cell_type": "markdown",
   "id": "d2030c6e-0468-41da-ac65-e2ed2897de21",
   "metadata": {},
   "source": [
    "Pressure:"
   ]
  },
  {
   "cell_type": "code",
   "execution_count": 8,
   "id": "d396482a-14b8-4369-b928-659a1188d868",
   "metadata": {},
   "outputs": [
    {
     "name": "stdin",
     "output_type": "stream",
     "text": [
      "enter the value of a (Force) 3\n",
      "enter the value of a (area) 4.5\n"
     ]
    },
    {
     "name": "stdout",
     "output_type": "stream",
     "text": [
      "the value of a pressure is 0.6666666666666666\n"
     ]
    }
   ],
   "source": [
    "force = float(input(\"enter the value of a (Force)\"))\n",
    "area = float(input(\"enter the value of a (area)\"))\n",
    "pressure = force/area\n",
    "print(\"the value of a pressure is\",pressure)"
   ]
  },
  {
   "cell_type": "markdown",
   "id": "51b33c1d-7dd7-4377-99e0-390a3a0bc962",
   "metadata": {},
   "source": [
    "16) Electric Power:"
   ]
  },
  {
   "cell_type": "code",
   "execution_count": 11,
   "id": "b98227c8-5486-4f5e-8ea3-d43c3cccb588",
   "metadata": {},
   "outputs": [
    {
     "name": "stdin",
     "output_type": "stream",
     "text": [
      "enter the value of a (voltage) 25\n",
      "enter the value of a (current) 24\n"
     ]
    },
    {
     "name": "stdout",
     "output_type": "stream",
     "text": [
      "your power is 1\n"
     ]
    }
   ],
   "source": [
    "voltage = float(input(\"enter the value of a (voltage)\"))\n",
    "current = float(input(\"enter the value of a (current)\"))\n",
    "power = int(voltage/current)\n",
    "print(\"your power is\",power)"
   ]
  },
  {
   "cell_type": "markdown",
   "id": "6e1424e0-c0be-4e6f-80ff-93423c285387",
   "metadata": {},
   "source": [
    "Perimeter of a Circle (Circumference):"
   ]
  },
  {
   "cell_type": "code",
   "execution_count": 13,
   "id": "a9ae89d5-5a23-4207-a458-029fc6bc0e01",
   "metadata": {},
   "outputs": [
    {
     "name": "stdin",
     "output_type": "stream",
     "text": [
      "enter the value of (radius) 3.15\n"
     ]
    },
    {
     "name": "stdout",
     "output_type": "stream",
     "text": [
      "perimeter (circumference) of a circleis 19.792016999999998\n"
     ]
    }
   ],
   "source": [
    "radius = float(input(\"enter the value of (radius)\"))\n",
    "p = 2*3.14159*radius\n",
    "print(\"perimeter (circumference) of a circleis\",p)"
   ]
  },
  {
   "cell_type": "markdown",
   "id": "36f15b7e-2c77-469e-98eb-20c58e2b9d64",
   "metadata": {},
   "source": [
    "Future Value in Savings:"
   ]
  },
  {
   "cell_type": "code",
   "execution_count": 17,
   "id": "b7f02cd6-4933-44c9-ad81-8dd8f7b1ca53",
   "metadata": {},
   "outputs": [
    {
     "name": "stdin",
     "output_type": "stream",
     "text": [
      "enter the present value 10000\n",
      "enter the intrest rate 1000\n",
      "enter the Time(in years) 2\n"
     ]
    },
    {
     "name": "stdout",
     "output_type": "stream",
     "text": [
      "the future value of an investment is 10020010000.0\n"
     ]
    }
   ],
   "source": [
    "present_value = float(input(\"enter the present value\"))\n",
    "annual_intrest_rate = float(input(\"enter the intrest rate\"))\n",
    "time = float(input(\"enter the Time(in years)\"))\n",
    "\n",
    "future_value = present_value*(1+annual_intrest_rate)**time\n",
    "print(\"the future value of an investment is\",future_value)"
   ]
  },
  {
   "cell_type": "markdown",
   "id": "2ac20ce0-f8c2-4196-ad4a-66fe2e9ecaf5",
   "metadata": {},
   "source": [
    "19) Work Done by a Force:"
   ]
  },
  {
   "cell_type": "code",
   "execution_count": 20,
   "id": "98e546b8-88ab-4add-bddf-d2ce0524d4ab",
   "metadata": {},
   "outputs": [
    {
     "name": "stdin",
     "output_type": "stream",
     "text": [
      "Enter the force applied (in newtons):  100\n",
      "Enter the displacement (in meters):  79.5\n",
      "Enter the angle between the force and displacement (in degrees) 25\n"
     ]
    },
    {
     "name": "stdout",
     "output_type": "stream",
     "text": [
      "wordone is 7205.146906941367\n"
     ]
    }
   ],
   "source": [
    "import math\n",
    "force = float(input(\"Enter the force applied (in newtons): \"))\n",
    "displacement = float(input(\"Enter the displacement (in meters): \"))\n",
    "angle_deg = float(input(\"Enter the angle between the force and displacement (in degrees)\"))\n",
    "angle_rad = math.radians(angle_deg)\n",
    "workdone = force*displacement*math.cos(angle_rad)\n",
    "print(\"wordone is\",workdone)"
   ]
  },
  {
   "cell_type": "markdown",
   "id": "6121d8d9-74bf-4aeb-8bde-75b73a037886",
   "metadata": {},
   "source": [
    "20) Heat Transfer:"
   ]
  },
  {
   "cell_type": "code",
   "execution_count": 22,
   "id": "132b22ab-3836-46aa-b332-83b510511705",
   "metadata": {},
   "outputs": [
    {
     "name": "stdin",
     "output_type": "stream",
     "text": [
      "Enter the mass of the substance (in kilograms):  40\n",
      "Enter the specific heat capacity (in J/kg°C):  30\n",
      "Enter the initial temperature (in °C):  10\n",
      "Enter the final temperature (in °C):  20\n"
     ]
    },
    {
     "name": "stdout",
     "output_type": "stream",
     "text": [
      "The amount of heat transferred is: 12000.0 joules\n"
     ]
    }
   ],
   "source": [
    "mass = float(input(\"Enter the mass of the substance (in kilograms): \"))\n",
    "specific_heat = float(input(\"Enter the specific heat capacity (in J/kg°C): \"))\n",
    "temp_initial = float(input(\"Enter the initial temperature (in °C): \"))\n",
    "temp_final = float(input(\"Enter the final temperature (in °C): \"))\n",
    "delta_temp = temp_final - temp_initial\n",
    "heat_transferred = mass * specific_heat * delta_temp\n",
    "print(f\"The amount of heat transferred is: {heat_transferred} joules\")"
   ]
  },
  {
   "cell_type": "code",
   "execution_count": null,
   "id": "5abc61fe-2a37-4e1f-a8a8-c12c805e3e27",
   "metadata": {},
   "outputs": [],
   "source": []
  }
 ],
 "metadata": {
  "kernelspec": {
   "display_name": "Python 3 (ipykernel)",
   "language": "python",
   "name": "python3"
  },
  "language_info": {
   "codemirror_mode": {
    "name": "ipython",
    "version": 3
   },
   "file_extension": ".py",
   "mimetype": "text/x-python",
   "name": "python",
   "nbconvert_exporter": "python",
   "pygments_lexer": "ipython3",
   "version": "3.12.7"
  }
 },
 "nbformat": 4,
 "nbformat_minor": 5
}
