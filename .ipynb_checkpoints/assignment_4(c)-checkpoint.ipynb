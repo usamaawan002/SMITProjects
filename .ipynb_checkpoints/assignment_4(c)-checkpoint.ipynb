{
 "cells": [
  {
   "cell_type": "markdown",
   "id": "ca84c803-b489-42a3-a072-bcb2f6835c77",
   "metadata": {},
   "source": [
    "***1. Write a Python program to print the numbers from 1 to 10 using a for loop.***"
   ]
  },
  {
   "cell_type": "code",
   "execution_count": 1,
   "id": "0678a0da-ca93-4748-bece-f4e6d8d0e974",
   "metadata": {},
   "outputs": [
    {
     "name": "stdout",
     "output_type": "stream",
     "text": [
      "1\n",
      "2\n",
      "3\n",
      "4\n",
      "5\n",
      "6\n",
      "7\n",
      "8\n",
      "9\n",
      "10\n"
     ]
    }
   ],
   "source": [
    "for i in range(1, 11):\n",
    "    print(i)"
   ]
  },
  {
   "cell_type": "markdown",
   "id": "a53cfdfe-dd55-4dde-90bf-77237208e010",
   "metadata": {},
   "source": [
    "***2. Write a Python program to print the numbers from 20 to 1 using a while loop.***"
   ]
  },
  {
   "cell_type": "code",
   "execution_count": 2,
   "id": "5eccb1f8-7863-4f67-8edb-524c02ea9652",
   "metadata": {},
   "outputs": [
    {
     "name": "stdout",
     "output_type": "stream",
     "text": [
      "20\n",
      "19\n",
      "18\n",
      "17\n",
      "16\n",
      "15\n",
      "14\n",
      "13\n",
      "12\n",
      "11\n",
      "10\n",
      "9\n",
      "8\n",
      "7\n",
      "6\n",
      "5\n",
      "4\n",
      "3\n",
      "2\n",
      "1\n"
     ]
    }
   ],
   "source": [
    "num = 20\n",
    "\n",
    "while num >= 1:\n",
    "    print(num)\n",
    "    num -= 1  "
   ]
  },
  {
   "cell_type": "markdown",
   "id": "6b2d1495-8f57-482f-aeb0-b3d645ed1ad5",
   "metadata": {},
   "source": [
    "***3. Write a program to print even numbers from 1 to 10.***"
   ]
  },
  {
   "cell_type": "code",
   "execution_count": 3,
   "id": "2dbfa895-0bae-4adb-8a29-0f41def0257c",
   "metadata": {},
   "outputs": [
    {
     "name": "stdout",
     "output_type": "stream",
     "text": [
      "2\n",
      "4\n",
      "6\n",
      "8\n",
      "10\n"
     ]
    }
   ],
   "source": [
    "for i in range(1, 11):\n",
    "    if i % 2 == 0:\n",
    "        print(i)"
   ]
  },
  {
   "cell_type": "markdown",
   "id": "5b8c17db-7b4c-430a-8fd1-ead1b7625e2f",
   "metadata": {},
   "source": [
    "***4. Write a program that prompts the user to enter a number n and prints all the\n",
    "numbers from 1 to n.8***"
   ]
  },
  {
   "cell_type": "code",
   "execution_count": 4,
   "id": "5eb67d24-a54d-44b6-a6fa-f9d026fb6472",
   "metadata": {},
   "outputs": [
    {
     "name": "stdin",
     "output_type": "stream",
     "text": [
      "Enter a number:  20\n"
     ]
    },
    {
     "name": "stdout",
     "output_type": "stream",
     "text": [
      "1\n",
      "2\n",
      "3\n",
      "4\n",
      "5\n",
      "6\n",
      "7\n",
      "8\n",
      "9\n",
      "10\n",
      "11\n",
      "12\n",
      "13\n",
      "14\n",
      "15\n",
      "16\n",
      "17\n",
      "18\n",
      "19\n",
      "20\n"
     ]
    }
   ],
   "source": [
    "n = int(input(\"Enter a number: \"))\n",
    "\n",
    "for i in range(1, n + 1):\n",
    "    print(i)"
   ]
  },
  {
   "cell_type": "markdown",
   "id": "7edff62d-3d73-4c18-b15a-f3e8fc489cdb",
   "metadata": {},
   "source": [
    "***5. Write a program that prompts the user to enter a number n, and then prints all the\n",
    "odd numbers between 1 and n.***"
   ]
  },
  {
   "cell_type": "code",
   "execution_count": 5,
   "id": "510ef57f-179a-44c2-ace7-52669b95a4be",
   "metadata": {},
   "outputs": [
    {
     "name": "stdin",
     "output_type": "stream",
     "text": [
      "Enter a number:  10\n"
     ]
    },
    {
     "name": "stdout",
     "output_type": "stream",
     "text": [
      "1\n",
      "3\n",
      "5\n",
      "7\n",
      "9\n"
     ]
    }
   ],
   "source": [
    "n = int(input(\"Enter a number: \"))\n",
    "\n",
    "for i in range(1, n + 1):\n",
    "    if i % 2 != 0:\n",
    "        print(i)"
   ]
  },
  {
   "cell_type": "markdown",
   "id": "725efcd1-95cb-4073-bb6a-f16357aea40e",
   "metadata": {},
   "source": [
    "***6. Write a program that prints 'Happy Birthday!' five times on screen.***"
   ]
  },
  {
   "cell_type": "code",
   "execution_count": 6,
   "id": "87baaabc-0f47-465f-8aad-81337d55d416",
   "metadata": {},
   "outputs": [
    {
     "name": "stdout",
     "output_type": "stream",
     "text": [
      "Happy Birthday!\n",
      "Happy Birthday!\n",
      "Happy Birthday!\n",
      "Happy Birthday!\n",
      "Happy Birthday!\n"
     ]
    }
   ],
   "source": [
    "for i in range(5):\n",
    "    print(\"Happy Birthday!\")"
   ]
  },
  {
   "cell_type": "markdown",
   "id": "e121834b-91cb-498e-a783-1760bc863a6c",
   "metadata": {},
   "source": [
    "***7. Write a program that takes a number n as input from the user and generates the first\n",
    "n terms of the series formed by squaring the natural numbers.\n",
    "Sample output\n",
    "Enter a number: 6\n",
    "The first 6 terms of the series are:\n",
    "1 4 9 16 25 36***"
   ]
  },
  {
   "cell_type": "code",
   "execution_count": 7,
   "id": "dbd5954b-54fc-4434-9a17-a06dacf4908c",
   "metadata": {},
   "outputs": [
    {
     "name": "stdin",
     "output_type": "stream",
     "text": [
      "Enter a number:  20\n"
     ]
    },
    {
     "name": "stdout",
     "output_type": "stream",
     "text": [
      "The first 20 terms of the series are:\n",
      "1 4 9 16 25 36 49 64 81 100 121 144 169 196 225 256 289 324 361 400 "
     ]
    }
   ],
   "source": [
    "n = int(input(\"Enter a number: \"))\n",
    "\n",
    "print(f\"The first {n} terms of the series are:\")\n",
    "for i in range(1, n + 1):\n",
    "    print(i ** 2, end=\" \")"
   ]
  },
  {
   "cell_type": "markdown",
   "id": "a5820b68-08fb-41c5-8b9f-7ed9f254685b",
   "metadata": {},
   "source": [
    "***8. Write a program that prompts the user to input a number and prints its multiplication\n",
    "table.***"
   ]
  },
  {
   "cell_type": "code",
   "execution_count": 8,
   "id": "4367a65a-6de5-4183-b83f-349ac7858964",
   "metadata": {},
   "outputs": [
    {
     "name": "stdin",
     "output_type": "stream",
     "text": [
      "Enter a number:  2\n"
     ]
    },
    {
     "name": "stdout",
     "output_type": "stream",
     "text": [
      "Multiplication table for 2:\n",
      "2 x 1 = 2\n",
      "2 x 2 = 4\n",
      "2 x 3 = 6\n",
      "2 x 4 = 8\n",
      "2 x 5 = 10\n",
      "2 x 6 = 12\n",
      "2 x 7 = 14\n",
      "2 x 8 = 16\n",
      "2 x 9 = 18\n",
      "2 x 10 = 20\n"
     ]
    }
   ],
   "source": [
    "num = int(input(\"Enter a number: \"))\n",
    "\n",
    "print(f\"Multiplication table for {num}:\")\n",
    "for i in range(1, 11):\n",
    "    print(f\"{num} x {i} = {num * i}\")"
   ]
  },
  {
   "cell_type": "markdown",
   "id": "3907b108-dfea-498b-b458-6ff98bb575b0",
   "metadata": {},
   "source": [
    "***9. Write a Python program to print the first 8 terms of an arithmetic progression starting\n",
    "with 3 and having a common difference of 4.\n",
    "The program should output the following sequence:\n",
    "3 7 11 15 19 23 27 31***"
   ]
  },
  {
   "cell_type": "code",
   "execution_count": 9,
   "id": "cda54896-5461-46f0-a505-a95e3383061d",
   "metadata": {},
   "outputs": [
    {
     "name": "stdout",
     "output_type": "stream",
     "text": [
      "3 7 11 15 19 23 27 31 "
     ]
    }
   ],
   "source": [
    "first_term = 3\n",
    "common_difference = 4\n",
    "num_terms = 8\n",
    "\n",
    "\n",
    "for i in range(num_terms):\n",
    "    term = first_term + i * common_difference\n",
    "    print(term, end=\" \")"
   ]
  },
  {
   "cell_type": "markdown",
   "id": "7a7bc1e2-6f8a-4cfb-a243-2c0bf500a3bf",
   "metadata": {},
   "source": [
    "***10. Write a Python program to print the first 6 terms of a geometric sequence starting\n",
    "with 2 and having a common ratio of 3.\n",
    "The program should output the following sequence:\n",
    "2 6 18 54 162 4868***"
   ]
  },
  {
   "cell_type": "code",
   "execution_count": 10,
   "id": "5b4a909c-0a64-4f48-a121-9782ec573f01",
   "metadata": {},
   "outputs": [
    {
     "name": "stdout",
     "output_type": "stream",
     "text": [
      "2 6 18 54 162 486 "
     ]
    }
   ],
   "source": [
    "first_term = 2\n",
    "common_ratio = 3\n",
    "num_terms = 6\n",
    "\n",
    "for i in range(num_terms):\n",
    "    term = first_term * (common_ratio ** i)\n",
    "    print(term, end=\" \")"
   ]
  },
  {
   "cell_type": "markdown",
   "id": "a90a516a-d01d-4dde-8dcb-9cad5c2a9948",
   "metadata": {},
   "source": [
    "***11. Write a program that asks the user for a positive integer value. The program should\n",
    "calculate the sum of all the integers from 1 up to the number entered. For example, if\n",
    "the user enters 20, the loop will find the sum of 1, 2, 3, 4, ... 20.***"
   ]
  },
  {
   "cell_type": "code",
   "execution_count": 11,
   "id": "153eea20-0fef-4cfa-b5c1-42174e944f01",
   "metadata": {},
   "outputs": [
    {
     "name": "stdin",
     "output_type": "stream",
     "text": [
      "Enter a positive integer:  45\n"
     ]
    },
    {
     "name": "stdout",
     "output_type": "stream",
     "text": [
      "The sum of integers from 1 to 45 is: 1035\n"
     ]
    }
   ],
   "source": [
    "n = int(input(\"Enter a positive integer: \"))\n",
    "\n",
    "total_sum = 0\n",
    "\n",
    "for i in range(1, n + 1):\n",
    "    total_sum += i\n",
    "\n",
    "# Output the result\n",
    "print(f\"The sum of integers from 1 to {n} is: {total_sum}\")"
   ]
  },
  {
   "cell_type": "markdown",
   "id": "5d82141c-aa63-4201-9623-09ed7377a102",
   "metadata": {},
   "source": [
    "***12. write a program that takes a positive integer N as input and calculates the sum of\n",
    "the reciprocals of all numbers from 1 up to N. The program should display the final sum.***"
   ]
  },
  {
   "cell_type": "code",
   "execution_count": 12,
   "id": "ed311fc2-9af1-4e33-8a49-3ab4b9f1f46e",
   "metadata": {},
   "outputs": [
    {
     "name": "stdin",
     "output_type": "stream",
     "text": [
      "Enter a positive integer:  43\n"
     ]
    },
    {
     "name": "stdout",
     "output_type": "stream",
     "text": [
      "The sum of the reciprocals of all numbers from 1 to 43 is: 4.349998620601827\n"
     ]
    }
   ],
   "source": [
    "N = int(input(\"Enter a positive integer: \"))\n",
    "\n",
    "reciprocal_sum = 0\n",
    "\n",
    "for i in range(1, N + 1):\n",
    "    reciprocal_sum += 1 / i\n",
    "\n",
    "print(f\"The sum of the reciprocals of all numbers from 1 to {N} is: {reciprocal_sum}\")"
   ]
  },
  {
   "cell_type": "markdown",
   "id": "91b036e7-3240-4bdb-b4aa-b5319e2a7ee8",
   "metadata": {},
   "source": [
    "***13. Write a program that prompts the user to enter a number and repeats this process 5\n",
    "times. The program should accumulate the numbers entered and then display the final\n",
    "running total.\n",
    "Sample Output:\n",
    "Enter a number: 10\n",
    "Enter a number: 15\n",
    "Enter a number: 35\n",
    "Enter a number: 40\n",
    "Enter a number: 50\n",
    "The final running total is: 150***"
   ]
  },
  {
   "cell_type": "code",
   "execution_count": 13,
   "id": "072b5316-2e88-4aab-9f38-31d02f181ed5",
   "metadata": {},
   "outputs": [
    {
     "name": "stdin",
     "output_type": "stream",
     "text": [
      "Enter a number:  5\n",
      "Enter a number:  7\n",
      "Enter a number:  9\n",
      "Enter a number:  7\n",
      "Enter a number:  5\n"
     ]
    },
    {
     "name": "stdout",
     "output_type": "stream",
     "text": [
      "The final running total is: 33\n"
     ]
    }
   ],
   "source": [
    "running_total = 0\n",
    "\n",
    "for i in range(5):\n",
    "    num = int(input(\"Enter a number: \"))\n",
    "    running_total += num\n",
    "\n",
    "print(f\"The final running total is: {running_total}\")"
   ]
  },
  {
   "cell_type": "markdown",
   "id": "1bf9fe2f-80b8-4de0-9cee-e881ae512102",
   "metadata": {},
   "source": [
    "***14. Write a program that prompts the user to enter a positive integer and calculates its\n",
    "factorial. The factorial of a positive integer 'n' is denoted as 'n!' and is calculated by\n",
    "multiplying all the integers from 1 to 'n' together. For example, the factorial of 5\n",
    "(denoted as 5!) is calculated as 1 x 2 x 3 x 4 x 5.\n",
    "The program should display the factorial value if the input is a positive number, or\n",
    "display a message stating that the factorial does not exist for negative numbers.\n",
    "Additionally, for an input of zero, the program should output that the factorial of 0 is 1.***"
   ]
  },
  {
   "cell_type": "code",
   "execution_count": 14,
   "id": "8b52f56b-878c-4a0c-ae2f-7c1c94cb47c4",
   "metadata": {},
   "outputs": [
    {
     "name": "stdin",
     "output_type": "stream",
     "text": [
      "Enter a positive integer:  6\n"
     ]
    },
    {
     "name": "stdout",
     "output_type": "stream",
     "text": [
      "The factorial of 6 is 720.\n"
     ]
    }
   ],
   "source": [
    "n = int(input(\"Enter a positive integer: \"))\n",
    "\n",
    "if n < 0:\n",
    "    print(\"Factorial does not exist for negative numbers.\")\n",
    "elif n == 0:\n",
    "    print(\"The factorial of 0 is 1.\")\n",
    "else:\n",
    "    factorial = 1\n",
    "    for i in range(1, n + 1):\n",
    "        factorial *= i  \n",
    "    print(f\"The factorial of {n} is {factorial}.\")"
   ]
  },
  {
   "cell_type": "markdown",
   "id": "95b0d30b-374f-4062-8c99-4d4ee534eb09",
   "metadata": {},
   "source": [
    "***15. Write a Python program that prompts the user to enter a base number and an\n",
    "exponent, and then calculates the power of the base to the exponent. The program\n",
    "should not use the exponentiation operator (**) or the math.pow() function. The\n",
    "program should handle both positive and negative exponents***"
   ]
  },
  {
   "cell_type": "code",
   "execution_count": 15,
   "id": "f51912b3-7590-4c9e-8c36-543977ed87c6",
   "metadata": {},
   "outputs": [
    {
     "name": "stdin",
     "output_type": "stream",
     "text": [
      "Enter the base number:  78\n",
      "Enter the exponent:  78\n"
     ]
    },
    {
     "name": "stdout",
     "output_type": "stream",
     "text": [
      "78.0 raised to the power of 78 is: 3.8315898123134615e+147\n"
     ]
    }
   ],
   "source": [
    "base = float(input(\"Enter the base number: \"))\n",
    "exponent = int(input(\"Enter the exponent: \"))\n",
    "\n",
    "result = 1\n",
    "\n",
    "\n",
    "if exponent > 0:\n",
    "    for _ in range(exponent):\n",
    "        result *= base  \n",
    "\n",
    "\n",
    "elif exponent < 0:\n",
    "    for _ in range(abs(exponent)):\n",
    "        result *= base \n",
    "    result = 1 / result\n",
    "\n",
    "\n",
    "else:\n",
    "    result = 1\n",
    "\n",
    "\n",
    "print(f\"{base} raised to the power of {exponent} is: {result}\")"
   ]
  },
  {
   "cell_type": "code",
   "execution_count": null,
   "id": "7dc12f2a-796b-4b83-877a-be91aba06b43",
   "metadata": {},
   "outputs": [],
   "source": []
  }
 ],
 "metadata": {
  "kernelspec": {
   "display_name": "Python 3 (ipykernel)",
   "language": "python",
   "name": "python3"
  },
  "language_info": {
   "codemirror_mode": {
    "name": "ipython",
    "version": 3
   },
   "file_extension": ".py",
   "mimetype": "text/x-python",
   "name": "python",
   "nbconvert_exporter": "python",
   "pygments_lexer": "ipython3",
   "version": "3.12.7"
  }
 },
 "nbformat": 4,
 "nbformat_minor": 5
}
